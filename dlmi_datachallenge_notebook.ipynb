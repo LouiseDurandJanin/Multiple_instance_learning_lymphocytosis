{
  "cells": [
    {
      "cell_type": "code",
      "execution_count": 5,
      "metadata": {
        "execution": {
          "iopub.execute_input": "2024-03-26T07:12:23.485106Z",
          "iopub.status.busy": "2024-03-26T07:12:23.484374Z",
          "iopub.status.idle": "2024-03-26T07:12:30.874789Z",
          "shell.execute_reply": "2024-03-26T07:12:30.873794Z",
          "shell.execute_reply.started": "2024-03-26T07:12:23.485073Z"
        },
        "id": "Pz7xXvfLAu5N",
        "trusted": true
      },
      "outputs": [],
      "source": [
        "import torch\n",
        "from torch import nn, optim\n",
        "from torchvision import transforms, datasets\n",
        "from torch.utils.data import DataLoader, Dataset, random_split\n",
        "import torch.nn.functional as F\n",
        "from torchvision.models import resnet50\n",
        "import os\n",
        "from tqdm import tqdm\n",
        "from PIL import Image\n",
        "import matplotlib.pyplot as plt\n",
        "import pandas as pd\n",
        "import numpy as np\n",
        "from sklearn.model_selection import train_test_split\n",
        "from sklearn.metrics import balanced_accuracy_score, accuracy_score, classification_report"
      ]
    },
    {
      "cell_type": "markdown",
      "metadata": {},
      "source": [
        "## Preprocessing dataset"
      ]
    },
    {
      "cell_type": "code",
      "execution_count": 6,
      "metadata": {
        "execution": {
          "iopub.execute_input": "2024-03-26T07:15:59.377146Z",
          "iopub.status.busy": "2024-03-26T07:15:59.376087Z",
          "iopub.status.idle": "2024-03-26T07:15:59.382152Z",
          "shell.execute_reply": "2024-03-26T07:15:59.381133Z",
          "shell.execute_reply.started": "2024-03-26T07:15:59.377113Z"
        },
        "id": "bj9D6hqPAu5O",
        "trusted": true
      },
      "outputs": [],
      "source": [
        "def get_year(x):\n",
        "  if '/' in x:\n",
        "    return int(x.split('/')[-1])\n",
        "  elif '-' in x:\n",
        "    return int(x.split('-')[-1])"
      ]
    },
    {
      "cell_type": "code",
      "execution_count": 7,
      "metadata": {
        "colab": {
          "base_uri": "https://localhost:8080/"
        },
        "execution": {
          "iopub.execute_input": "2024-03-26T07:16:02.700676Z",
          "iopub.status.busy": "2024-03-26T07:16:02.700002Z",
          "iopub.status.idle": "2024-03-26T07:16:02.743366Z",
          "shell.execute_reply": "2024-03-26T07:16:02.742551Z",
          "shell.execute_reply.started": "2024-03-26T07:16:02.700645Z"
        },
        "id": "PU0v0TtzAu5P",
        "outputId": "d0729247-3885-45a3-bc83-cf776eb3a604",
        "trusted": true
      },
      "outputs": [
        {
          "name": "stderr",
          "output_type": "stream",
          "text": [
            "<ipython-input-7-bddbba84a4d5>:17: SettingWithCopyWarning: \n",
            "A value is trying to be set on a copy of a slice from a DataFrame\n",
            "\n",
            "See the caveats in the documentation: https://pandas.pydata.org/pandas-docs/stable/user_guide/indexing.html#returning-a-view-versus-a-copy\n",
            "  df_train.drop(['LABEL'], axis=1, inplace=True)\n",
            "<ipython-input-7-bddbba84a4d5>:18: SettingWithCopyWarning: \n",
            "A value is trying to be set on a copy of a slice from a DataFrame\n",
            "\n",
            "See the caveats in the documentation: https://pandas.pydata.org/pandas-docs/stable/user_guide/indexing.html#returning-a-view-versus-a-copy\n",
            "  df_test.drop(['LABEL'], axis=1, inplace=True)\n"
          ]
        },
        {
          "data": {
            "text/plain": [
              "GENDER         float64\n",
              "LYMPH_COUNT    float64\n",
              "AGE              int64\n",
              "dtype: object"
            ]
          },
          "execution_count": 7,
          "metadata": {},
          "output_type": "execute_result"
        }
      ],
      "source": [
        "# Clinical csv\n",
        "\n",
        "clinical_annotation = pd.read_csv(\"/content/drive/MyDrive/MVA/DLMI/dlmi-lymphocytosis-classification/clinical_annotation.csv\", index_col=1)\n",
        "clinical_annotation.drop(clinical_annotation.columns[0], axis=1, inplace=True)\n",
        "\n",
        "# Preprocessing on structured data\n",
        "dict_to_encode = {'M': 0, \"F\":1, \"f\":1}\n",
        "clinical_annotation.head()\n",
        "clinical_annotation['GENDER'] = clinical_annotation['GENDER'].replace(dict_to_encode).astype(float)\n",
        "clinical_annotation['YEAR'] = clinical_annotation['DOB'].apply(get_year)\n",
        "clinical_annotation['AGE'] = 2023 - clinical_annotation['YEAR']\n",
        "clinical_annotation.drop(['DOB', 'YEAR'], axis=1, inplace=True)\n",
        "df_test = clinical_annotation[clinical_annotation['LABEL'] == -1]\n",
        "df_train = clinical_annotation[clinical_annotation['LABEL'] != -1]\n",
        "target = df_train['LABEL']\n",
        "target_test = df_test['LABEL']\n",
        "df_train.drop(['LABEL'], axis=1, inplace=True)\n",
        "df_test.drop(['LABEL'], axis=1, inplace=True)\n",
        "clinical_annotation.head()\n",
        "df_train.dtypes"
      ]
    },
    {
      "cell_type": "code",
      "execution_count": null,
      "metadata": {},
      "outputs": [],
      "source": [
        "# Function to reduce the size of the image\n",
        "## TO ADJUST : Default : 112 * 112 but can be reduced by adding con2d with stride = 2 ##\n",
        "def downsample_2d(X):\n",
        "    # Assumant X a la forme [batch_size, channels, height, width]\n",
        "    if X.dim() == 3:\n",
        "        X = X.unsqueeze(0)\n",
        "    channels = X.shape[1]\n",
        "    kernel = torch.ones((channels, 1, 3, 3)) / 9.0  # Un noyau de lissage simple\n",
        "    X = F.conv2d(X, kernel, groups=channels, stride=2, padding=1)\n",
        "    X = X.squeeze(0)\n",
        "    return X"
      ]
    },
    {
      "cell_type": "code",
      "execution_count": null,
      "metadata": {},
      "outputs": [],
      "source": [
        "# Image Dataset for the pre training of the feature extractor\n",
        "\n",
        "class ImagesDataset(Dataset):\n",
        "    def __init__(self, root_dir, transform=None):\n",
        "        \"\"\"\n",
        "        Args:\n",
        "            root_dir (string): Directory with all the patient folders.\n",
        "            transform (callable, optional): Optional transform to be applied on a sample.\n",
        "        \"\"\"\n",
        "        self.root_dir = root_dir\n",
        "        self.transform = transform\n",
        "        self.image_paths = []\n",
        "        patients = [os.path.join(root_dir, name) for name in os.listdir(root_dir) if os.path.isdir(os.path.join(root_dir, name))]\n",
        "\n",
        "        for patient_folder in patients:\n",
        "            for image_file in os.listdir(patient_folder):\n",
        "                full_path = os.path.join(patient_folder, image_file)\n",
        "                if os.path.isfile(full_path):\n",
        "                    self.image_paths.append(full_path)\n",
        "\n",
        "    def __len__(self):\n",
        "        return len(self.image_paths)\n",
        "\n",
        "    def __getitem__(self, idx):\n",
        "        image_path = self.image_paths[idx]\n",
        "        image = Image.open(image_path).convert('RGB')\n",
        "        #print(image.size)\n",
        "        if self.transform:\n",
        "            image = self.transform(image)\n",
        "            #print(image.shape)\n",
        "            image = downsample_2d(image)\n",
        "\n",
        "        return image"
      ]
    },
    {
      "cell_type": "code",
      "execution_count": 51,
      "metadata": {
        "colab": {
          "base_uri": "https://localhost:8080/",
          "height": 610
        },
        "execution": {
          "iopub.execute_input": "2024-03-26T08:33:57.752226Z",
          "iopub.status.busy": "2024-03-26T08:33:57.751641Z",
          "iopub.status.idle": "2024-03-26T08:33:59.456333Z",
          "shell.execute_reply": "2024-03-26T08:33:59.455410Z",
          "shell.execute_reply.started": "2024-03-26T08:33:57.752192Z"
        },
        "id": "YJ9RMdZZAu5T",
        "outputId": "9042bd47-69fd-4ced-e055-bdc7e8ca2588",
        "trusted": true
      },
      "outputs": [
        {
          "name": "stdout",
          "output_type": "stream",
          "text": [
            "137\n",
            "45\n",
            "8\n",
            "clinical infos tensor([[  0.0000,  64.8600,  65.0000],\n",
            "        [  1.0000,   6.9800,  78.0000],\n",
            "        [  1.0000, 217.5900,  59.0000],\n",
            "        [  1.0000,   5.8900,  85.0000],\n",
            "        [  1.0000,  15.4300,  91.0000],\n",
            "        [  0.0000,   5.3900,  44.0000],\n",
            "        [  1.0000,   6.5300,  91.0000],\n",
            "        [  0.0000,   7.6800,  39.0000]])\n",
            "label tensor([-1., -1., -1., -1., -1., -1., -1., -1.])\n"
          ]
        },
        {
          "data": {
            "image/png": "[encoded data removed]",
            "text/plain": [
              "<Figure size 640x480 with 1 Axes>"
            ]
          },
          "metadata": {},
          "output_type": "display_data"
        }
      ],
      "source": [
        "class PatientImagesDataset(Dataset):\n",
        "    def __init__(self, root_dir, clinical_data, labels, transform=None):\n",
        "        \"\"\"\n",
        "        Args:\n",
        "            root_dir (string): Directory with all the patient folders.\n",
        "            patient_id (list of str) : To distinguish between train and valid\n",
        "            transform (callable, optional): Optional transform to be applied on a sample.\n",
        "        \"\"\"\n",
        "        self.root_dir = root_dir\n",
        "\n",
        "        self.clinical_data = clinical_data\n",
        "        self.transform = transform\n",
        "        self.patients = [os.path.join(root_dir, name) for name in os.listdir(root_dir) if os.path.isdir(os.path.join(root_dir, name))]\n",
        "\n",
        "        self.labels = labels\n",
        "\n",
        "    def __len__(self):\n",
        "        return len(self.patients)\n",
        "\n",
        "\n",
        "    def __getitem__(self, idx):\n",
        "            patient_folder = self.patients[idx]\n",
        "            patient_id = os.path.basename(patient_folder)\n",
        "            image_files = [os.path.join(patient_folder, name) for name in os.listdir(patient_folder) ]\n",
        "            images = []\n",
        "            for image_file in image_files:\n",
        "                # Load the image\n",
        "                image = Image.open(image_file).convert('RGB')\n",
        "                if self.transform:\n",
        "                    image = self.transform(image)\n",
        "                    image = downsample_2d(image, size=56)\n",
        "\n",
        "                images.append(image)\n",
        "\n",
        "            # Get clinical data for this patient\n",
        "            clinical_info = self.clinical_data.loc[patient_id].values\n",
        "            clinical_info = torch.tensor(clinical_info, dtype=torch.float)\n",
        "            label = self.labels.loc[patient_id]\n",
        "            label = torch.tensor(label, dtype=torch.float)\n",
        "\n",
        "            return images, clinical_info,label\n",
        "\n",
        "\n",
        "# Data Preprocessing\n",
        "transform = transforms.Compose([\n",
        "    transforms.Resize((224, 224)),  # Resize images\n",
        "    transforms.ToTensor(),  # Convert to tensor\n",
        "])\n",
        "\n",
        "# Function to deal with folders of different size per patient\n",
        "def custom_collate_fn(batch):\n",
        "    images = [item[0] for item in batch]# This will be a list of tensors\n",
        "    clinical_infos = torch.stack([item[1] for item in batch])\n",
        "    labels = torch.stack([item[2] for item in batch])\n",
        "    return images, clinical_infos, labels\n",
        "dataset = PatientImagesDataset('/content/drive/MyDrive/MVA/DLMI/dlmi-lymphocytosis-classification/testset', df_test, target_test, transform=transform)\n",
        "dataloader = DataLoader(dataset, batch_size=8, shuffle=True, collate_fn=custom_collate_fn)\n",
        "\n",
        "\n",
        "# To see if everything work well\n",
        "for sample in dataloader:\n",
        "    img = sample[0][0]\n",
        "    print(len(img))\n",
        "\n",
        "    img = sample[0][1]\n",
        "    print(len(img))\n",
        "    print(len(sample[0]))\n",
        "    print('clinical infos', sample[1])\n",
        "    print(\"label\", sample[2])\n",
        "    img = img[0].squeeze(0).numpy().transpose((1, 2, 0))\n",
        "    plt.imshow(img)\n",
        "    plt.axis('off')  # Remove axes for better visual appearance\n",
        "    plt.show()\n",
        "    break"
      ]
    },
    {
      "cell_type": "code",
      "execution_count": null,
      "metadata": {
        "execution": {
          "iopub.execute_input": "2024-03-20T17:18:26.297041Z",
          "iopub.status.busy": "2024-03-20T17:18:26.296235Z",
          "iopub.status.idle": "2024-03-20T17:18:26.315883Z",
          "shell.execute_reply": "2024-03-20T17:18:26.314837Z",
          "shell.execute_reply.started": "2024-03-20T17:18:26.297013Z"
        },
        "id": "mgvIIaMgAu5U",
        "outputId": "e5f8b137-c347-45fc-fcaf-e4e2c1cf8632",
        "trusted": true
      },
      "outputs": [
        {
          "data": {
            "text/html": [
              "<div>\n",
              "<style scoped>\n",
              "    .dataframe tbody tr th:only-of-type {\n",
              "        vertical-align: middle;\n",
              "    }\n",
              "\n",
              "    .dataframe tbody tr th {\n",
              "        vertical-align: top;\n",
              "    }\n",
              "\n",
              "    .dataframe thead th {\n",
              "        text-align: right;\n",
              "    }\n",
              "</style>\n",
              "<table border=\"1\" class=\"dataframe\">\n",
              "  <thead>\n",
              "    <tr style=\"text-align: right;\">\n",
              "      <th></th>\n",
              "      <th>GENDER</th>\n",
              "      <th>LYMPH_COUNT</th>\n",
              "      <th>AGE</th>\n",
              "    </tr>\n",
              "    <tr>\n",
              "      <th>ID</th>\n",
              "      <th></th>\n",
              "      <th></th>\n",
              "      <th></th>\n",
              "    </tr>\n",
              "  </thead>\n",
              "  <tbody>\n",
              "    <tr>\n",
              "      <th>P71</th>\n",
              "      <td>0.0</td>\n",
              "      <td>5.76</td>\n",
              "      <td>77</td>\n",
              "    </tr>\n",
              "    <tr>\n",
              "      <th>P16</th>\n",
              "      <td>0.0</td>\n",
              "      <td>32.00</td>\n",
              "      <td>83</td>\n",
              "    </tr>\n",
              "    <tr>\n",
              "      <th>P114</th>\n",
              "      <td>0.0</td>\n",
              "      <td>4.60</td>\n",
              "      <td>94</td>\n",
              "    </tr>\n",
              "    <tr>\n",
              "      <th>P170</th>\n",
              "      <td>0.0</td>\n",
              "      <td>4.80</td>\n",
              "      <td>90</td>\n",
              "    </tr>\n",
              "    <tr>\n",
              "      <th>P98</th>\n",
              "      <td>1.0</td>\n",
              "      <td>6.24</td>\n",
              "      <td>53</td>\n",
              "    </tr>\n",
              "    <tr>\n",
              "      <th>P69</th>\n",
              "      <td>0.0</td>\n",
              "      <td>7.47</td>\n",
              "      <td>44</td>\n",
              "    </tr>\n",
              "    <tr>\n",
              "      <th>P92</th>\n",
              "      <td>1.0</td>\n",
              "      <td>55.26</td>\n",
              "      <td>76</td>\n",
              "    </tr>\n",
              "    <tr>\n",
              "      <th>P132</th>\n",
              "      <td>0.0</td>\n",
              "      <td>24.70</td>\n",
              "      <td>78</td>\n",
              "    </tr>\n",
              "    <tr>\n",
              "      <th>P81</th>\n",
              "      <td>0.0</td>\n",
              "      <td>64.86</td>\n",
              "      <td>65</td>\n",
              "    </tr>\n",
              "    <tr>\n",
              "      <th>P73</th>\n",
              "      <td>1.0</td>\n",
              "      <td>4.28</td>\n",
              "      <td>100</td>\n",
              "    </tr>\n",
              "    <tr>\n",
              "      <th>P143</th>\n",
              "      <td>1.0</td>\n",
              "      <td>38.34</td>\n",
              "      <td>96</td>\n",
              "    </tr>\n",
              "    <tr>\n",
              "      <th>P175</th>\n",
              "      <td>0.0</td>\n",
              "      <td>26.24</td>\n",
              "      <td>69</td>\n",
              "    </tr>\n",
              "    <tr>\n",
              "      <th>P56</th>\n",
              "      <td>0.0</td>\n",
              "      <td>6.55</td>\n",
              "      <td>51</td>\n",
              "    </tr>\n",
              "    <tr>\n",
              "      <th>P139</th>\n",
              "      <td>1.0</td>\n",
              "      <td>14.48</td>\n",
              "      <td>62</td>\n",
              "    </tr>\n",
              "    <tr>\n",
              "      <th>P152</th>\n",
              "      <td>1.0</td>\n",
              "      <td>5.89</td>\n",
              "      <td>85</td>\n",
              "    </tr>\n",
              "    <tr>\n",
              "      <th>P203</th>\n",
              "      <td>0.0</td>\n",
              "      <td>7.68</td>\n",
              "      <td>39</td>\n",
              "    </tr>\n",
              "    <tr>\n",
              "      <th>P75</th>\n",
              "      <td>0.0</td>\n",
              "      <td>84.54</td>\n",
              "      <td>77</td>\n",
              "    </tr>\n",
              "    <tr>\n",
              "      <th>P9</th>\n",
              "      <td>1.0</td>\n",
              "      <td>15.38</td>\n",
              "      <td>89</td>\n",
              "    </tr>\n",
              "    <tr>\n",
              "      <th>P24</th>\n",
              "      <td>1.0</td>\n",
              "      <td>4.08</td>\n",
              "      <td>60</td>\n",
              "    </tr>\n",
              "    <tr>\n",
              "      <th>P4</th>\n",
              "      <td>0.0</td>\n",
              "      <td>5.27</td>\n",
              "      <td>46</td>\n",
              "    </tr>\n",
              "    <tr>\n",
              "      <th>P32</th>\n",
              "      <td>1.0</td>\n",
              "      <td>217.59</td>\n",
              "      <td>59</td>\n",
              "    </tr>\n",
              "    <tr>\n",
              "      <th>P120</th>\n",
              "      <td>0.0</td>\n",
              "      <td>47.01</td>\n",
              "      <td>73</td>\n",
              "    </tr>\n",
              "    <tr>\n",
              "      <th>P138</th>\n",
              "      <td>1.0</td>\n",
              "      <td>15.43</td>\n",
              "      <td>91</td>\n",
              "    </tr>\n",
              "    <tr>\n",
              "      <th>P172</th>\n",
              "      <td>0.0</td>\n",
              "      <td>35.73</td>\n",
              "      <td>58</td>\n",
              "    </tr>\n",
              "    <tr>\n",
              "      <th>P57</th>\n",
              "      <td>0.0</td>\n",
              "      <td>4.25</td>\n",
              "      <td>64</td>\n",
              "    </tr>\n",
              "    <tr>\n",
              "      <th>P195</th>\n",
              "      <td>0.0</td>\n",
              "      <td>184.16</td>\n",
              "      <td>92</td>\n",
              "    </tr>\n",
              "    <tr>\n",
              "      <th>P68</th>\n",
              "      <td>0.0</td>\n",
              "      <td>4.29</td>\n",
              "      <td>43</td>\n",
              "    </tr>\n",
              "    <tr>\n",
              "      <th>P133</th>\n",
              "      <td>0.0</td>\n",
              "      <td>7.49</td>\n",
              "      <td>71</td>\n",
              "    </tr>\n",
              "    <tr>\n",
              "      <th>P14</th>\n",
              "      <td>1.0</td>\n",
              "      <td>6.53</td>\n",
              "      <td>91</td>\n",
              "    </tr>\n",
              "    <tr>\n",
              "      <th>P119</th>\n",
              "      <td>1.0</td>\n",
              "      <td>8.30</td>\n",
              "      <td>58</td>\n",
              "    </tr>\n",
              "    <tr>\n",
              "      <th>P7</th>\n",
              "      <td>0.0</td>\n",
              "      <td>4.09</td>\n",
              "      <td>24</td>\n",
              "    </tr>\n",
              "    <tr>\n",
              "      <th>P49</th>\n",
              "      <td>0.0</td>\n",
              "      <td>10.10</td>\n",
              "      <td>42</td>\n",
              "    </tr>\n",
              "    <tr>\n",
              "      <th>P93</th>\n",
              "      <td>1.0</td>\n",
              "      <td>10.37</td>\n",
              "      <td>66</td>\n",
              "    </tr>\n",
              "    <tr>\n",
              "      <th>P178</th>\n",
              "      <td>0.0</td>\n",
              "      <td>5.39</td>\n",
              "      <td>44</td>\n",
              "    </tr>\n",
              "    <tr>\n",
              "      <th>P58</th>\n",
              "      <td>1.0</td>\n",
              "      <td>5.59</td>\n",
              "      <td>59</td>\n",
              "    </tr>\n",
              "    <tr>\n",
              "      <th>P108</th>\n",
              "      <td>1.0</td>\n",
              "      <td>6.22</td>\n",
              "      <td>94</td>\n",
              "    </tr>\n",
              "    <tr>\n",
              "      <th>P197</th>\n",
              "      <td>1.0</td>\n",
              "      <td>6.19</td>\n",
              "      <td>26</td>\n",
              "    </tr>\n",
              "    <tr>\n",
              "      <th>P196</th>\n",
              "      <td>1.0</td>\n",
              "      <td>6.98</td>\n",
              "      <td>78</td>\n",
              "    </tr>\n",
              "    <tr>\n",
              "      <th>P86</th>\n",
              "      <td>1.0</td>\n",
              "      <td>4.64</td>\n",
              "      <td>79</td>\n",
              "    </tr>\n",
              "    <tr>\n",
              "      <th>P18</th>\n",
              "      <td>0.0</td>\n",
              "      <td>4.96</td>\n",
              "      <td>69</td>\n",
              "    </tr>\n",
              "    <tr>\n",
              "      <th>P188</th>\n",
              "      <td>0.0</td>\n",
              "      <td>4.62</td>\n",
              "      <td>92</td>\n",
              "    </tr>\n",
              "    <tr>\n",
              "      <th>P148</th>\n",
              "      <td>0.0</td>\n",
              "      <td>5.14</td>\n",
              "      <td>78</td>\n",
              "    </tr>\n",
              "  </tbody>\n",
              "</table>\n",
              "</div>"
            ],
            "text/plain": [
              "      GENDER  LYMPH_COUNT  AGE\n",
              "ID                            \n",
              "P71      0.0         5.76   77\n",
              "P16      0.0        32.00   83\n",
              "P114     0.0         4.60   94\n",
              "P170     0.0         4.80   90\n",
              "P98      1.0         6.24   53\n",
              "P69      0.0         7.47   44\n",
              "P92      1.0        55.26   76\n",
              "P132     0.0        24.70   78\n",
              "P81      0.0        64.86   65\n",
              "P73      1.0         4.28  100\n",
              "P143     1.0        38.34   96\n",
              "P175     0.0        26.24   69\n",
              "P56      0.0         6.55   51\n",
              "P139     1.0        14.48   62\n",
              "P152     1.0         5.89   85\n",
              "P203     0.0         7.68   39\n",
              "P75      0.0        84.54   77\n",
              "P9       1.0        15.38   89\n",
              "P24      1.0         4.08   60\n",
              "P4       0.0         5.27   46\n",
              "P32      1.0       217.59   59\n",
              "P120     0.0        47.01   73\n",
              "P138     1.0        15.43   91\n",
              "P172     0.0        35.73   58\n",
              "P57      0.0         4.25   64\n",
              "P195     0.0       184.16   92\n",
              "P68      0.0         4.29   43\n",
              "P133     0.0         7.49   71\n",
              "P14      1.0         6.53   91\n",
              "P119     1.0         8.30   58\n",
              "P7       0.0         4.09   24\n",
              "P49      0.0        10.10   42\n",
              "P93      1.0        10.37   66\n",
              "P178     0.0         5.39   44\n",
              "P58      1.0         5.59   59\n",
              "P108     1.0         6.22   94\n",
              "P197     1.0         6.19   26\n",
              "P196     1.0         6.98   78\n",
              "P86      1.0         4.64   79\n",
              "P18      0.0         4.96   69\n",
              "P188     0.0         4.62   92\n",
              "P148     0.0         5.14   78"
            ]
          },
          "execution_count": 28,
          "metadata": {},
          "output_type": "execute_result"
        }
      ],
      "source": [
        "df_test"
      ]
    },
    {
      "cell_type": "code",
      "execution_count": 52,
      "metadata": {
        "colab": {
          "base_uri": "https://localhost:8080/"
        },
        "execution": {
          "iopub.execute_input": "2024-03-26T08:47:07.146719Z",
          "iopub.status.busy": "2024-03-26T08:47:07.145996Z",
          "iopub.status.idle": "2024-03-26T08:47:07.332410Z",
          "shell.execute_reply": "2024-03-26T08:47:07.331556Z",
          "shell.execute_reply.started": "2024-03-26T08:47:07.146687Z"
        },
        "id": "5FphMp0jAu5W",
        "outputId": "00a885ad-ad10-4185-e4d4-4e4f9deb2857",
        "trusted": true
      },
      "outputs": [
        {
          "name": "stdout",
          "output_type": "stream",
          "text": [
            "Nombre de batches dans le DataLoader d'entraînement: 17\n",
            "Nombre de batches dans le DataLoader de validation: 4\n"
          ]
        }
      ],
      "source": [
        "# Batch size for the training of the final model \n",
        "### TO ADJUST ###\n",
        "batch_size = 8 \n",
        "\n",
        "\n",
        "transform = transforms.Compose([\n",
        "    transforms.Resize((224, 224)),\n",
        "    transforms.ToTensor(),\n",
        "])\n",
        "dataset = PatientImagesDataset(\n",
        "    root_dir='/content/drive/MyDrive/MVA/DLMI/dlmi-lymphocytosis-classification/trainset',\n",
        "    clinical_data=df_train, labels=target,\n",
        "    transform=transform\n",
        ")\n",
        "\n",
        "\n",
        "# Définissez la proportion ou le nombre absolu d'échantillons pour l'ensemble de validation\n",
        "valid_size = 0.2  # Pour une division 80% train, 20% valid\n",
        "\n",
        "# Calculez les tailles des ensembles d'entraînement et de validation\n",
        "num_samples = len(dataset)\n",
        "num_valid = int(num_samples * valid_size)\n",
        "num_train = num_samples - num_valid\n",
        "\n",
        "# Séparez le jeu de données en sous-ensembles d'entraînement et de validation\n",
        "dataset_train, dataset_valid = random_split(dataset, [num_train, num_valid])\n",
        "\n",
        "# Créez les DataLoaders pour les ensembles d'entraînement et de validation\n",
        "dataloader_train = DataLoader(dataset_train, batch_size=batch_size, shuffle=True, collate_fn=custom_collate_fn)\n",
        "dataloader_valid = DataLoader(dataset_valid, batch_size=batch_size, shuffle=False, collate_fn=custom_collate_fn)\n",
        "\n",
        "\n",
        "\n",
        "# Calculer le nombre de batches dans le DataLoader d'entraînement\n",
        "num_batches_train = len(dataloader_train)\n",
        "print(f'Nombre de batches dans le DataLoader d\\'entraînement: {num_batches_train}')\n",
        "\n",
        "# Calculer le nombre de batches dans le DataLoader de validation\n",
        "num_batches_valid = len(dataloader_valid)\n",
        "print(f'Nombre de batches dans le DataLoader de validation: {num_batches_valid}')"
      ]
    },
    {
      "cell_type": "code",
      "execution_count": 10,
      "metadata": {
        "execution": {
          "iopub.execute_input": "2024-03-26T08:51:08.365775Z",
          "iopub.status.busy": "2024-03-26T08:51:08.365413Z",
          "iopub.status.idle": "2024-03-26T08:51:08.419397Z",
          "shell.execute_reply": "2024-03-26T08:51:08.418520Z",
          "shell.execute_reply.started": "2024-03-26T08:51:08.365742Z"
        },
        "id": "teMhYbYPAu5X",
        "trusted": true
      },
      "outputs": [],
      "source": [
        "#TEST\n",
        "transform = transforms.Compose([\n",
        "    transforms.Resize((224, 224)),\n",
        "    transforms.ToTensor(),\n",
        "])\n",
        "dataset_test = PatientImagesDataset(\n",
        "    root_dir='/content/drive/MyDrive/MVA/DLMI/dlmi-lymphocytosis-classification/testset',\n",
        "    clinical_data=df_test, labels=target_test,\n",
        "    transform=transform\n",
        ")\n",
        "dataloader_test = DataLoader(dataset_test, batch_size=1, shuffle=False, collate_fn=custom_collate_fn)"
      ]
    },
    {
      "cell_type": "markdown",
      "metadata": {},
      "source": [
        "## Autoencoder feature extractor"
      ]
    },
    {
      "cell_type": "code",
      "execution_count": 38,
      "metadata": {
        "colab": {
          "base_uri": "https://localhost:8080/",
          "height": 171
        },
        "id": "YOMxKGj4aYQt",
        "outputId": "2c1d9f20-0b15-4410-bbdf-c8d5b1a106f1"
      },
      "outputs": [
        {
          "data": {
            "application/vnd.google.colaboratory.intrinsic+json": {
              "type": "string"
            },
            "text/plain": [
              "'\\nclass AutoEncoder(nn.Module):\\n    def __init__(self):\\n        super(AutoEncoder, self).__init__()\\n        ndf = 64  # number of feature maps\\n        nc = 3  # number of channels\\n\\n        # Encodeur\\n        self.conv1 = nn.Conv2d(nc, ndf * 4, kernel_size=7, padding=3, stride=2)\\n        self.relu1 = nn.ReLU(True)\\n        self.pool1 = nn.MaxPool2d(2, stride=2, return_indices=True)\\n\\n        self.conv2 = nn.Conv2d(ndf *4, ndf * 8, kernel_size=3, padding=1, stride=1)\\n        self.relu2 = nn.ReLU(True)\\n        self.pool2 = nn.MaxPool2d(2, stride=2, return_indices=True)\\n\\n        # Décodeur\\n        self.unpool1 = nn.MaxUnpool2d(2, stride=2)\\n        self.deconv1 = nn.ConvTranspose2d(ndf * 8, ndf * 4, kernel_size=3, padding=1, stride=1)\\n        self.relu3 = nn.ReLU(True)\\n\\n        self.unpool2 = nn.MaxUnpool2d(2, stride=2)\\n        self.deconv2 = nn.ConvTranspose2d(ndf * 4, nc, kernel_size=7, padding=3, stride=2)\\n        self.sigmoid = nn.Sigmoid()\\n\\n    def forward(self, x):\\n        # Encodeur\\n        x = self.conv1(x)\\n        x = self.relu1(x)\\n        x, indices1 = self.pool1(x)\\n\\n        x = self.conv2(x)\\n        x = self.relu2(x)\\n        x, indices2 = self.pool2(x)\\n\\n        # Décodeur\\n        x = self.unpool1(x, indices2)\\n        x = self.deconv1(x)\\n        x = self.relu3(x)\\n\\n        x = self.unpool2(x, indices1)\\n        x = self.deconv2(x)\\n        x = self.sigmoid(x)\\n\\n        return x\\n\\n\\n'"
            ]
          },
          "execution_count": 38,
          "metadata": {},
          "output_type": "execute_result"
        }
      ],
      "source": [
        "import torch\n",
        "import torch.nn as nn\n",
        "import torch.nn.functional as F\n",
        "\n",
        "class Encoder(nn.Module):\n",
        "  def __init__(self):\n",
        "    super(Encoder, self).__init__()\n",
        "    ndf = 4  # number of feature maps\n",
        "    nc = 3  # number of channels\n",
        "    ## TO ADJUST ##\n",
        "    emb_dim = 60\n",
        "    ##############\n",
        "    self.conv1 = nn.Conv2d(nc, ndf * 4, kernel_size=3, padding=1, stride=2)\n",
        "    self.relu1 = nn.ReLU(True)\n",
        "    self.pool1 = nn.MaxPool2d(2, stride=2, return_indices=True)\n",
        "\n",
        "    self.conv2 = nn.Conv2d(ndf *4, ndf * 8, kernel_size=3, padding=1, stride=1)\n",
        "    self.relu2 = nn.ReLU(True)\n",
        "    self.pool2 = nn.MaxPool2d(2, stride=2, return_indices=True)\n",
        "    self.linear1 = nn.Linear(ndf * 8 * 14 * 14, emb_dim*3)\n",
        "    self.linear2 = nn.Linear(emb_dim * 3, emb_dim)\n",
        "\n",
        "  def forward(self, x):\n",
        "        x = self.conv1(x)\n",
        "        x = self.relu1(x)\n",
        "        x, indices1 = self.pool1(x)\n",
        "\n",
        "        x = self.conv2(x)\n",
        "        x = self.relu2(x)\n",
        "        x, indices2 = self.pool2(x)\n",
        "        x = x.reshape(x.shape[0], -1)\n",
        "        x = F.leaky_relu(self.linear1(x))\n",
        "        x = torch.sigmoid(self.linear2(x))\n",
        "\n",
        "        return x, [indices1, indices2]\n",
        "\n",
        "\n",
        "class Decoder(nn.Module):\n",
        "  def __init__(self):\n",
        "    super(Decoder, self).__init__()\n",
        "    ndf =4  # number of feature maps\n",
        "    nc = 3  # number of channels\n",
        "    ## To ADJUST ##\n",
        "    emb_dim = 60 \n",
        "    ################\n",
        "    self.unpool1 = nn.MaxUnpool2d(2, stride=2)\n",
        "    self.deconv1 = nn.ConvTranspose2d(ndf * 8, ndf * 4, kernel_size=3, padding=1, stride=1)\n",
        "    self.relu2 = nn.ReLU(True)\n",
        "\n",
        "    self.unpool2 = nn.MaxUnpool2d(2, stride=2)\n",
        "    self.deconv2 = nn.ConvTranspose2d(ndf * 4, nc, kernel_size=3, padding=1, stride=2, output_padding=1)\n",
        "    self.sigmoid = nn.Sigmoid()\n",
        "\n",
        "    self.linear2 = nn.Linear(emb_dim*3, ndf * 8 * 14 * 14)\n",
        "    self.linear1 = nn.Linear(emb_dim, emb_dim * 3)\n",
        "    self.relu1 = nn.ReLU(True)\n",
        "\n",
        "  def forward(self,x, indices1, indices2):\n",
        "    x = F.leaky_relu(self.linear1(x))\n",
        "    x = self.linear2(x)\n",
        "    x = x.reshape(x.shape[0], 32, 14, 14)\n",
        "    x = self.unpool1(x, indices2)\n",
        "    x = self.deconv1(x)\n",
        "    #print(x.shape)\n",
        "    x = self.relu2(x)\n",
        "\n",
        "    x = self.unpool2(x, indices1)\n",
        "    x = self.deconv2(x)\n",
        "    #print(x.shape)\n",
        "    x = self.relu1(x)\n",
        "    return x\n",
        "\n"
      ]
    },
    {
      "cell_type": "code",
      "execution_count": 11,
      "metadata": {
        "id": "cTYsD7Hj1s3R"
      },
      "outputs": [],
      "source": [
        "class AutoEncoder(nn.Module):\n",
        "    def __init__(self):\n",
        "        super(AutoEncoder, self).__init__()\n",
        "        self.encoder = Encoder()\n",
        "        self.decoder = Decoder()\n",
        "\n",
        "    def forward(self, x):\n",
        "        emb, pool_indices = self.encoder(x)\n",
        "        x_hat = self.decoder(emb, pool_indices[0], pool_indices[1])\n",
        "        return x_hat"
      ]
    },
    {
      "cell_type": "code",
      "execution_count": 42,
      "metadata": {
        "colab": {
          "base_uri": "https://localhost:8080/",
          "height": 423
        },
        "id": "V5ApOcPRvTlm",
        "outputId": "a5f8e856-3f33-452e-d391-1b40fc5b0007"
      },
      "outputs": [
        {
          "name": "stdout",
          "output_type": "stream",
          "text": [
            "torch.Size([128, 3, 112, 112])\n"
          ]
        },
        {
          "data": {
            "image/png": "[encoded data removed]",
            "text/plain": [
              "<Figure size 640x480 with 1 Axes>"
            ]
          },
          "metadata": {},
          "output_type": "display_data"
        }
      ],
      "source": [
        "# Define transformations\n",
        "transform = transforms.Compose([\n",
        "    transforms.Resize((224, 224)),  # Assuming this is the input size for your autoencoder\n",
        "    transforms.ToTensor(),\n",
        "])\n",
        "\n",
        "# Instantiate the dataset\n",
        "dataset = ImagesDataset(root_dir='/content/drive/MyDrive/MVA/DLMI/dlmi-lymphocytosis-classification/trainset', transform=transform)\n",
        "valid_size = 0.2  # Pour une division 80% train, 20% valid\n",
        "\n",
        "# Calculez les tailles des ensembles d'entraînement et de validation\n",
        "num_samples = len(dataset)\n",
        "num_valid = int(num_samples * valid_size)\n",
        "num_train = num_samples - num_valid\n",
        "\n",
        "# Séparez le jeu de données en sous-ensembles d'entraînement et de validation\n",
        "dataset_train, dataset_valid = random_split(dataset, [num_train, num_valid])\n",
        "\n",
        "# Créez les DataLoaders pour les ensembles d'entraînement et de validation\n",
        "train_dataloader = DataLoader(dataset_train, batch_size=128, shuffle=True)\n",
        "valid_dataloader = DataLoader(dataset_valid, batch_size=128, shuffle=False)\n",
        "\n",
        "for sample in train_dataloader:\n",
        "    #print(sample)\n",
        "    #print(sample['patient_id'], len(sample['images']))\n",
        "\n",
        "    #img = sample[0][0]\n",
        "    print(sample.shape)\n",
        "    #print(sample[3][0])\n",
        "    img = sample[0]\n",
        "    #print(len(img))\n",
        "    #print(sample[3][1])\n",
        "    #print(len(sample[0]))\n",
        "    #print('clinical infos', sample[1])\n",
        "    #print(\"label\", sample[2])\n",
        "    img = img.squeeze(0).numpy().transpose((1, 2, 0))\n",
        "    plt.imshow(img)\n",
        "    plt.axis('off')  # Remove axes for better visual appearance\n",
        "    plt.show()\n",
        "    break"
      ]
    },
    {
      "cell_type": "code",
      "execution_count": 43,
      "metadata": {
        "colab": {
          "base_uri": "https://localhost:8080/",
          "height": 1000
        },
        "id": "IHhdJMLXGrJQ",
        "outputId": "d0a2c78d-6042-4ae7-e465-29fcccd802f2"
      },
      "outputs": [
        {
          "name": "stderr",
          "output_type": "stream",
          "text": [
            "0it [00:00, ?it/s]/usr/local/lib/python3.10/dist-packages/torch/nn/modules/loss.py:535: UserWarning: Using a target size (torch.Size([128, 3, 112, 112])) that is different to the input size (torch.Size([3, 112, 112])). This will likely lead to incorrect results due to broadcasting. Please ensure they have the same size.\n",
            "  return F.mse_loss(input, target, reduction=self.reduction)\n",
            "84it [1:08:06, 47.92s/it]/usr/local/lib/python3.10/dist-packages/torch/nn/modules/loss.py:535: UserWarning: Using a target size (torch.Size([11, 3, 112, 112])) that is different to the input size (torch.Size([3, 112, 112])). This will likely lead to incorrect results due to broadcasting. Please ensure they have the same size.\n",
            "  return F.mse_loss(input, target, reduction=self.reduction)\n",
            "85it [1:08:10, 48.13s/it]\n"
          ]
        },
        {
          "name": "stdout",
          "output_type": "stream",
          "text": [
            "Epoch [1/100], Loss: 0.3761\n"
          ]
        },
        {
          "name": "stderr",
          "output_type": "stream",
          "text": [
            "/usr/local/lib/python3.10/dist-packages/torch/nn/modules/loss.py:535: UserWarning: Using a target size (torch.Size([2, 3, 112, 112])) that is different to the input size (torch.Size([3, 112, 112])). This will likely lead to incorrect results due to broadcasting. Please ensure they have the same size.\n",
            "  return F.mse_loss(input, target, reduction=self.reduction)\n"
          ]
        },
        {
          "name": "stdout",
          "output_type": "stream",
          "text": [
            "Validation loss decreased (10000.0000 --> 0.3648). Saving model ...\n"
          ]
        },
        {
          "name": "stderr",
          "output_type": "stream",
          "text": [
            "85it [00:40,  2.09it/s]\n"
          ]
        },
        {
          "name": "stdout",
          "output_type": "stream",
          "text": [
            "Epoch [2/100], Loss: 0.2846\n"
          ]
        },
        {
          "name": "stderr",
          "output_type": "stream",
          "text": [
            "85it [00:40,  2.11it/s]\n"
          ]
        },
        {
          "name": "stdout",
          "output_type": "stream",
          "text": [
            "Epoch [3/100], Loss: 0.2376\n"
          ]
        },
        {
          "name": "stderr",
          "output_type": "stream",
          "text": [
            "85it [00:39,  2.13it/s]\n"
          ]
        },
        {
          "name": "stdout",
          "output_type": "stream",
          "text": [
            "Epoch [4/100], Loss: 0.2060\n"
          ]
        },
        {
          "name": "stderr",
          "output_type": "stream",
          "text": [
            "85it [00:39,  2.14it/s]\n"
          ]
        },
        {
          "name": "stdout",
          "output_type": "stream",
          "text": [
            "Epoch [5/100], Loss: 0.1822\n"
          ]
        },
        {
          "name": "stderr",
          "output_type": "stream",
          "text": [
            "85it [00:39,  2.14it/s]\n"
          ]
        },
        {
          "name": "stdout",
          "output_type": "stream",
          "text": [
            "Epoch [6/100], Loss: 0.1553\n"
          ]
        },
        {
          "name": "stderr",
          "output_type": "stream",
          "text": [
            "85it [00:39,  2.14it/s]\n"
          ]
        },
        {
          "name": "stdout",
          "output_type": "stream",
          "text": [
            "Epoch [7/100], Loss: 0.1413\n"
          ]
        },
        {
          "name": "stderr",
          "output_type": "stream",
          "text": [
            "85it [00:39,  2.16it/s]\n"
          ]
        },
        {
          "name": "stdout",
          "output_type": "stream",
          "text": [
            "Epoch [8/100], Loss: 0.1333\n"
          ]
        },
        {
          "name": "stderr",
          "output_type": "stream",
          "text": [
            "85it [00:39,  2.17it/s]\n"
          ]
        },
        {
          "name": "stdout",
          "output_type": "stream",
          "text": [
            "Epoch [9/100], Loss: 0.1197\n"
          ]
        },
        {
          "name": "stderr",
          "output_type": "stream",
          "text": [
            "85it [00:39,  2.15it/s]\n"
          ]
        },
        {
          "name": "stdout",
          "output_type": "stream",
          "text": [
            "Epoch [10/100], Loss: 0.1189\n"
          ]
        },
        {
          "name": "stderr",
          "output_type": "stream",
          "text": [
            "85it [00:39,  2.16it/s]\n"
          ]
        },
        {
          "name": "stdout",
          "output_type": "stream",
          "text": [
            "Epoch [11/100], Loss: 0.1100\n",
            "Validation loss decreased (0.3648 --> 0.1107). Saving model ...\n"
          ]
        },
        {
          "name": "stderr",
          "output_type": "stream",
          "text": [
            "85it [00:39,  2.13it/s]\n"
          ]
        },
        {
          "name": "stdout",
          "output_type": "stream",
          "text": [
            "Epoch [12/100], Loss: 0.1056\n"
          ]
        },
        {
          "name": "stderr",
          "output_type": "stream",
          "text": [
            "85it [00:39,  2.14it/s]\n"
          ]
        },
        {
          "name": "stdout",
          "output_type": "stream",
          "text": [
            "Epoch [13/100], Loss: 0.0963\n"
          ]
        },
        {
          "name": "stderr",
          "output_type": "stream",
          "text": [
            "85it [00:39,  2.14it/s]\n"
          ]
        },
        {
          "name": "stdout",
          "output_type": "stream",
          "text": [
            "Epoch [14/100], Loss: 0.0979\n"
          ]
        },
        {
          "name": "stderr",
          "output_type": "stream",
          "text": [
            "85it [00:39,  2.16it/s]\n"
          ]
        },
        {
          "name": "stdout",
          "output_type": "stream",
          "text": [
            "Epoch [15/100], Loss: 0.0918\n"
          ]
        },
        {
          "name": "stderr",
          "output_type": "stream",
          "text": [
            "85it [00:39,  2.16it/s]\n"
          ]
        },
        {
          "name": "stdout",
          "output_type": "stream",
          "text": [
            "Epoch [16/100], Loss: 0.0908\n"
          ]
        },
        {
          "name": "stderr",
          "output_type": "stream",
          "text": [
            "85it [00:39,  2.15it/s]\n"
          ]
        },
        {
          "name": "stdout",
          "output_type": "stream",
          "text": [
            "Epoch [17/100], Loss: 0.0923\n"
          ]
        },
        {
          "name": "stderr",
          "output_type": "stream",
          "text": [
            "85it [00:40,  2.08it/s]\n"
          ]
        },
        {
          "name": "stdout",
          "output_type": "stream",
          "text": [
            "Epoch [18/100], Loss: 0.0824\n"
          ]
        },
        {
          "name": "stderr",
          "output_type": "stream",
          "text": [
            "85it [00:39,  2.15it/s]\n"
          ]
        },
        {
          "name": "stdout",
          "output_type": "stream",
          "text": [
            "Epoch [19/100], Loss: 0.0810\n"
          ]
        },
        {
          "name": "stderr",
          "output_type": "stream",
          "text": [
            "85it [00:39,  2.14it/s]\n"
          ]
        },
        {
          "name": "stdout",
          "output_type": "stream",
          "text": [
            "Epoch [20/100], Loss: 0.0858\n"
          ]
        },
        {
          "name": "stderr",
          "output_type": "stream",
          "text": [
            "85it [00:41,  2.03it/s]\n"
          ]
        },
        {
          "name": "stdout",
          "output_type": "stream",
          "text": [
            "Epoch [21/100], Loss: 0.0778\n",
            "Validation loss decreased (0.1107 --> 0.0793). Saving model ...\n"
          ]
        },
        {
          "name": "stderr",
          "output_type": "stream",
          "text": [
            "85it [00:39,  2.16it/s]\n"
          ]
        },
        {
          "name": "stdout",
          "output_type": "stream",
          "text": [
            "Epoch [22/100], Loss: 0.0763\n"
          ]
        },
        {
          "name": "stderr",
          "output_type": "stream",
          "text": [
            "85it [00:40,  2.11it/s]\n"
          ]
        },
        {
          "name": "stdout",
          "output_type": "stream",
          "text": [
            "Epoch [23/100], Loss: 0.0726\n"
          ]
        },
        {
          "name": "stderr",
          "output_type": "stream",
          "text": [
            "85it [00:40,  2.08it/s]\n"
          ]
        },
        {
          "name": "stdout",
          "output_type": "stream",
          "text": [
            "Epoch [24/100], Loss: 0.0729\n"
          ]
        },
        {
          "name": "stderr",
          "output_type": "stream",
          "text": [
            "85it [00:39,  2.14it/s]\n"
          ]
        },
        {
          "name": "stdout",
          "output_type": "stream",
          "text": [
            "Epoch [25/100], Loss: 0.0701\n"
          ]
        },
        {
          "name": "stderr",
          "output_type": "stream",
          "text": [
            "85it [00:39,  2.15it/s]\n"
          ]
        },
        {
          "name": "stdout",
          "output_type": "stream",
          "text": [
            "Epoch [26/100], Loss: 0.0679\n"
          ]
        },
        {
          "name": "stderr",
          "output_type": "stream",
          "text": [
            "85it [00:40,  2.10it/s]\n"
          ]
        },
        {
          "name": "stdout",
          "output_type": "stream",
          "text": [
            "Epoch [27/100], Loss: 0.0678\n"
          ]
        },
        {
          "name": "stderr",
          "output_type": "stream",
          "text": [
            "85it [00:39,  2.15it/s]\n"
          ]
        },
        {
          "name": "stdout",
          "output_type": "stream",
          "text": [
            "Epoch [28/100], Loss: 0.0658\n"
          ]
        },
        {
          "name": "stderr",
          "output_type": "stream",
          "text": [
            "85it [00:40,  2.09it/s]\n"
          ]
        },
        {
          "name": "stdout",
          "output_type": "stream",
          "text": [
            "Epoch [29/100], Loss: 0.0669\n"
          ]
        },
        {
          "name": "stderr",
          "output_type": "stream",
          "text": [
            "85it [00:40,  2.11it/s]\n"
          ]
        },
        {
          "name": "stdout",
          "output_type": "stream",
          "text": [
            "Epoch [30/100], Loss: 0.0648\n"
          ]
        },
        {
          "name": "stderr",
          "output_type": "stream",
          "text": [
            "85it [00:39,  2.13it/s]\n"
          ]
        },
        {
          "name": "stdout",
          "output_type": "stream",
          "text": [
            "Epoch [31/100], Loss: 0.0616\n",
            "Validation loss decreased (0.0793 --> 0.0639). Saving model ...\n"
          ]
        },
        {
          "name": "stderr",
          "output_type": "stream",
          "text": [
            "85it [00:39,  2.14it/s]\n"
          ]
        },
        {
          "name": "stdout",
          "output_type": "stream",
          "text": [
            "Epoch [32/100], Loss: 0.0598\n"
          ]
        },
        {
          "name": "stderr",
          "output_type": "stream",
          "text": [
            "85it [00:40,  2.12it/s]\n"
          ]
        },
        {
          "name": "stdout",
          "output_type": "stream",
          "text": [
            "Epoch [33/100], Loss: 0.0632\n"
          ]
        },
        {
          "name": "stderr",
          "output_type": "stream",
          "text": [
            "85it [00:40,  2.12it/s]\n"
          ]
        },
        {
          "name": "stdout",
          "output_type": "stream",
          "text": [
            "Epoch [34/100], Loss: 0.0571\n"
          ]
        },
        {
          "name": "stderr",
          "output_type": "stream",
          "text": [
            "85it [00:40,  2.07it/s]\n"
          ]
        },
        {
          "name": "stdout",
          "output_type": "stream",
          "text": [
            "Epoch [35/100], Loss: 0.0565\n"
          ]
        },
        {
          "name": "stderr",
          "output_type": "stream",
          "text": [
            "85it [00:41,  2.05it/s]\n"
          ]
        },
        {
          "name": "stdout",
          "output_type": "stream",
          "text": [
            "Epoch [36/100], Loss: 0.0538\n"
          ]
        },
        {
          "name": "stderr",
          "output_type": "stream",
          "text": [
            "56it [00:27,  2.05it/s]\n"
          ]
        },
        {
          "ename": "KeyboardInterrupt",
          "evalue": "",
          "output_type": "error",
          "traceback": [
            "\u001b[0;31m---------------------------------------------------------------------------\u001b[0m",
            "\u001b[0;31mKeyboardInterrupt\u001b[0m                         Traceback (most recent call last)",
            "\u001b[0;32m<ipython-input-43-5de356d247c2>\u001b[0m in \u001b[0;36m<cell line: 21>\u001b[0;34m()\u001b[0m\n\u001b[1;32m     20\u001b[0m \u001b[0;31m# Training loop (simplified for clarity)\u001b[0m\u001b[0;34m\u001b[0m\u001b[0;34m\u001b[0m\u001b[0m\n\u001b[1;32m     21\u001b[0m \u001b[0;32mfor\u001b[0m \u001b[0mepoch\u001b[0m \u001b[0;32min\u001b[0m \u001b[0mrange\u001b[0m\u001b[0;34m(\u001b[0m\u001b[0mnum_epochs\u001b[0m\u001b[0;34m)\u001b[0m\u001b[0;34m:\u001b[0m\u001b[0;34m\u001b[0m\u001b[0;34m\u001b[0m\u001b[0m\n\u001b[0;32m---> 22\u001b[0;31m     \u001b[0;32mfor\u001b[0m \u001b[0miter\u001b[0m\u001b[0;34m,\u001b[0m \u001b[0mimages\u001b[0m \u001b[0;32min\u001b[0m \u001b[0mtqdm\u001b[0m\u001b[0;34m(\u001b[0m\u001b[0menumerate\u001b[0m\u001b[0;34m(\u001b[0m\u001b[0mtrain_dataloader\u001b[0m\u001b[0;34m)\u001b[0m\u001b[0;34m)\u001b[0m\u001b[0;34m:\u001b[0m\u001b[0;34m\u001b[0m\u001b[0;34m\u001b[0m\u001b[0m\n\u001b[0m\u001b[1;32m     23\u001b[0m         \u001b[0mimages\u001b[0m \u001b[0;34m=\u001b[0m \u001b[0mimages\u001b[0m\u001b[0;34m.\u001b[0m\u001b[0mto\u001b[0m\u001b[0;34m(\u001b[0m\u001b[0mdevice\u001b[0m\u001b[0;34m)\u001b[0m  \u001b[0;31m# Ensure images are on the correct device\u001b[0m\u001b[0;34m\u001b[0m\u001b[0;34m\u001b[0m\u001b[0m\n\u001b[1;32m     24\u001b[0m \u001b[0;34m\u001b[0m\u001b[0m\n",
            "\u001b[0;32m/usr/local/lib/python3.10/dist-packages/tqdm/std.py\u001b[0m in \u001b[0;36m__iter__\u001b[0;34m(self)\u001b[0m\n\u001b[1;32m   1179\u001b[0m \u001b[0;34m\u001b[0m\u001b[0m\n\u001b[1;32m   1180\u001b[0m         \u001b[0;32mtry\u001b[0m\u001b[0;34m:\u001b[0m\u001b[0;34m\u001b[0m\u001b[0;34m\u001b[0m\u001b[0m\n\u001b[0;32m-> 1181\u001b[0;31m             \u001b[0;32mfor\u001b[0m \u001b[0mobj\u001b[0m \u001b[0;32min\u001b[0m \u001b[0miterable\u001b[0m\u001b[0;34m:\u001b[0m\u001b[0;34m\u001b[0m\u001b[0;34m\u001b[0m\u001b[0m\n\u001b[0m\u001b[1;32m   1182\u001b[0m                 \u001b[0;32myield\u001b[0m \u001b[0mobj\u001b[0m\u001b[0;34m\u001b[0m\u001b[0;34m\u001b[0m\u001b[0m\n\u001b[1;32m   1183\u001b[0m                 \u001b[0;31m# Update and possibly print the progressbar.\u001b[0m\u001b[0;34m\u001b[0m\u001b[0;34m\u001b[0m\u001b[0m\n",
            "\u001b[0;32m/usr/local/lib/python3.10/dist-packages/torch/utils/data/dataloader.py\u001b[0m in \u001b[0;36m__next__\u001b[0;34m(self)\u001b[0m\n\u001b[1;32m    629\u001b[0m                 \u001b[0;31m# TODO(https://github.com/pytorch/pytorch/issues/76750)\u001b[0m\u001b[0;34m\u001b[0m\u001b[0;34m\u001b[0m\u001b[0m\n\u001b[1;32m    630\u001b[0m                 \u001b[0mself\u001b[0m\u001b[0;34m.\u001b[0m\u001b[0m_reset\u001b[0m\u001b[0;34m(\u001b[0m\u001b[0;34m)\u001b[0m  \u001b[0;31m# type: ignore[call-arg]\u001b[0m\u001b[0;34m\u001b[0m\u001b[0;34m\u001b[0m\u001b[0m\n\u001b[0;32m--> 631\u001b[0;31m             \u001b[0mdata\u001b[0m \u001b[0;34m=\u001b[0m \u001b[0mself\u001b[0m\u001b[0;34m.\u001b[0m\u001b[0m_next_data\u001b[0m\u001b[0;34m(\u001b[0m\u001b[0;34m)\u001b[0m\u001b[0;34m\u001b[0m\u001b[0;34m\u001b[0m\u001b[0m\n\u001b[0m\u001b[1;32m    632\u001b[0m             \u001b[0mself\u001b[0m\u001b[0;34m.\u001b[0m\u001b[0m_num_yielded\u001b[0m \u001b[0;34m+=\u001b[0m \u001b[0;36m1\u001b[0m\u001b[0;34m\u001b[0m\u001b[0;34m\u001b[0m\u001b[0m\n\u001b[1;32m    633\u001b[0m             \u001b[0;32mif\u001b[0m \u001b[0mself\u001b[0m\u001b[0;34m.\u001b[0m\u001b[0m_dataset_kind\u001b[0m \u001b[0;34m==\u001b[0m \u001b[0m_DatasetKind\u001b[0m\u001b[0;34m.\u001b[0m\u001b[0mIterable\u001b[0m \u001b[0;32mand\u001b[0m\u001b[0;31m \u001b[0m\u001b[0;31m\\\u001b[0m\u001b[0;34m\u001b[0m\u001b[0;34m\u001b[0m\u001b[0m\n",
            "\u001b[0;32m/usr/local/lib/python3.10/dist-packages/torch/utils/data/dataloader.py\u001b[0m in \u001b[0;36m_next_data\u001b[0;34m(self)\u001b[0m\n\u001b[1;32m    673\u001b[0m     \u001b[0;32mdef\u001b[0m \u001b[0m_next_data\u001b[0m\u001b[0;34m(\u001b[0m\u001b[0mself\u001b[0m\u001b[0;34m)\u001b[0m\u001b[0;34m:\u001b[0m\u001b[0;34m\u001b[0m\u001b[0;34m\u001b[0m\u001b[0m\n\u001b[1;32m    674\u001b[0m         \u001b[0mindex\u001b[0m \u001b[0;34m=\u001b[0m \u001b[0mself\u001b[0m\u001b[0;34m.\u001b[0m\u001b[0m_next_index\u001b[0m\u001b[0;34m(\u001b[0m\u001b[0;34m)\u001b[0m  \u001b[0;31m# may raise StopIteration\u001b[0m\u001b[0;34m\u001b[0m\u001b[0;34m\u001b[0m\u001b[0m\n\u001b[0;32m--> 675\u001b[0;31m         \u001b[0mdata\u001b[0m \u001b[0;34m=\u001b[0m \u001b[0mself\u001b[0m\u001b[0;34m.\u001b[0m\u001b[0m_dataset_fetcher\u001b[0m\u001b[0;34m.\u001b[0m\u001b[0mfetch\u001b[0m\u001b[0;34m(\u001b[0m\u001b[0mindex\u001b[0m\u001b[0;34m)\u001b[0m  \u001b[0;31m# may raise StopIteration\u001b[0m\u001b[0;34m\u001b[0m\u001b[0;34m\u001b[0m\u001b[0m\n\u001b[0m\u001b[1;32m    676\u001b[0m         \u001b[0;32mif\u001b[0m \u001b[0mself\u001b[0m\u001b[0;34m.\u001b[0m\u001b[0m_pin_memory\u001b[0m\u001b[0;34m:\u001b[0m\u001b[0;34m\u001b[0m\u001b[0;34m\u001b[0m\u001b[0m\n\u001b[1;32m    677\u001b[0m             \u001b[0mdata\u001b[0m \u001b[0;34m=\u001b[0m \u001b[0m_utils\u001b[0m\u001b[0;34m.\u001b[0m\u001b[0mpin_memory\u001b[0m\u001b[0;34m.\u001b[0m\u001b[0mpin_memory\u001b[0m\u001b[0;34m(\u001b[0m\u001b[0mdata\u001b[0m\u001b[0;34m,\u001b[0m \u001b[0mself\u001b[0m\u001b[0;34m.\u001b[0m\u001b[0m_pin_memory_device\u001b[0m\u001b[0;34m)\u001b[0m\u001b[0;34m\u001b[0m\u001b[0;34m\u001b[0m\u001b[0m\n",
            "\u001b[0;32m/usr/local/lib/python3.10/dist-packages/torch/utils/data/_utils/fetch.py\u001b[0m in \u001b[0;36mfetch\u001b[0;34m(self, possibly_batched_index)\u001b[0m\n\u001b[1;32m     47\u001b[0m         \u001b[0;32mif\u001b[0m \u001b[0mself\u001b[0m\u001b[0;34m.\u001b[0m\u001b[0mauto_collation\u001b[0m\u001b[0;34m:\u001b[0m\u001b[0;34m\u001b[0m\u001b[0;34m\u001b[0m\u001b[0m\n\u001b[1;32m     48\u001b[0m             \u001b[0;32mif\u001b[0m \u001b[0mhasattr\u001b[0m\u001b[0;34m(\u001b[0m\u001b[0mself\u001b[0m\u001b[0;34m.\u001b[0m\u001b[0mdataset\u001b[0m\u001b[0;34m,\u001b[0m \u001b[0;34m\"__getitems__\"\u001b[0m\u001b[0;34m)\u001b[0m \u001b[0;32mand\u001b[0m \u001b[0mself\u001b[0m\u001b[0;34m.\u001b[0m\u001b[0mdataset\u001b[0m\u001b[0;34m.\u001b[0m\u001b[0m__getitems__\u001b[0m\u001b[0;34m:\u001b[0m\u001b[0;34m\u001b[0m\u001b[0;34m\u001b[0m\u001b[0m\n\u001b[0;32m---> 49\u001b[0;31m                 \u001b[0mdata\u001b[0m \u001b[0;34m=\u001b[0m \u001b[0mself\u001b[0m\u001b[0;34m.\u001b[0m\u001b[0mdataset\u001b[0m\u001b[0;34m.\u001b[0m\u001b[0m__getitems__\u001b[0m\u001b[0;34m(\u001b[0m\u001b[0mpossibly_batched_index\u001b[0m\u001b[0;34m)\u001b[0m\u001b[0;34m\u001b[0m\u001b[0;34m\u001b[0m\u001b[0m\n\u001b[0m\u001b[1;32m     50\u001b[0m             \u001b[0;32melse\u001b[0m\u001b[0;34m:\u001b[0m\u001b[0;34m\u001b[0m\u001b[0;34m\u001b[0m\u001b[0m\n\u001b[1;32m     51\u001b[0m                 \u001b[0mdata\u001b[0m \u001b[0;34m=\u001b[0m \u001b[0;34m[\u001b[0m\u001b[0mself\u001b[0m\u001b[0;34m.\u001b[0m\u001b[0mdataset\u001b[0m\u001b[0;34m[\u001b[0m\u001b[0midx\u001b[0m\u001b[0;34m]\u001b[0m \u001b[0;32mfor\u001b[0m \u001b[0midx\u001b[0m \u001b[0;32min\u001b[0m \u001b[0mpossibly_batched_index\u001b[0m\u001b[0;34m]\u001b[0m\u001b[0;34m\u001b[0m\u001b[0;34m\u001b[0m\u001b[0m\n",
            "\u001b[0;32m/usr/local/lib/python3.10/dist-packages/torch/utils/data/dataset.py\u001b[0m in \u001b[0;36m__getitems__\u001b[0;34m(self, indices)\u001b[0m\n\u001b[1;32m    397\u001b[0m             \u001b[0;32mreturn\u001b[0m \u001b[0mself\u001b[0m\u001b[0;34m.\u001b[0m\u001b[0mdataset\u001b[0m\u001b[0;34m.\u001b[0m\u001b[0m__getitems__\u001b[0m\u001b[0;34m(\u001b[0m\u001b[0;34m[\u001b[0m\u001b[0mself\u001b[0m\u001b[0;34m.\u001b[0m\u001b[0mindices\u001b[0m\u001b[0;34m[\u001b[0m\u001b[0midx\u001b[0m\u001b[0;34m]\u001b[0m \u001b[0;32mfor\u001b[0m \u001b[0midx\u001b[0m \u001b[0;32min\u001b[0m \u001b[0mindices\u001b[0m\u001b[0;34m]\u001b[0m\u001b[0;34m)\u001b[0m  \u001b[0;31m# type: ignore[attr-defined]\u001b[0m\u001b[0;34m\u001b[0m\u001b[0;34m\u001b[0m\u001b[0m\n\u001b[1;32m    398\u001b[0m         \u001b[0;32melse\u001b[0m\u001b[0;34m:\u001b[0m\u001b[0;34m\u001b[0m\u001b[0;34m\u001b[0m\u001b[0m\n\u001b[0;32m--> 399\u001b[0;31m             \u001b[0;32mreturn\u001b[0m \u001b[0;34m[\u001b[0m\u001b[0mself\u001b[0m\u001b[0;34m.\u001b[0m\u001b[0mdataset\u001b[0m\u001b[0;34m[\u001b[0m\u001b[0mself\u001b[0m\u001b[0;34m.\u001b[0m\u001b[0mindices\u001b[0m\u001b[0;34m[\u001b[0m\u001b[0midx\u001b[0m\u001b[0;34m]\u001b[0m\u001b[0;34m]\u001b[0m \u001b[0;32mfor\u001b[0m \u001b[0midx\u001b[0m \u001b[0;32min\u001b[0m \u001b[0mindices\u001b[0m\u001b[0;34m]\u001b[0m\u001b[0;34m\u001b[0m\u001b[0;34m\u001b[0m\u001b[0m\n\u001b[0m\u001b[1;32m    400\u001b[0m \u001b[0;34m\u001b[0m\u001b[0m\n\u001b[1;32m    401\u001b[0m     \u001b[0;32mdef\u001b[0m \u001b[0m__len__\u001b[0m\u001b[0;34m(\u001b[0m\u001b[0mself\u001b[0m\u001b[0;34m)\u001b[0m\u001b[0;34m:\u001b[0m\u001b[0;34m\u001b[0m\u001b[0;34m\u001b[0m\u001b[0m\n",
            "\u001b[0;32m/usr/local/lib/python3.10/dist-packages/torch/utils/data/dataset.py\u001b[0m in \u001b[0;36m<listcomp>\u001b[0;34m(.0)\u001b[0m\n\u001b[1;32m    397\u001b[0m             \u001b[0;32mreturn\u001b[0m \u001b[0mself\u001b[0m\u001b[0;34m.\u001b[0m\u001b[0mdataset\u001b[0m\u001b[0;34m.\u001b[0m\u001b[0m__getitems__\u001b[0m\u001b[0;34m(\u001b[0m\u001b[0;34m[\u001b[0m\u001b[0mself\u001b[0m\u001b[0;34m.\u001b[0m\u001b[0mindices\u001b[0m\u001b[0;34m[\u001b[0m\u001b[0midx\u001b[0m\u001b[0;34m]\u001b[0m \u001b[0;32mfor\u001b[0m \u001b[0midx\u001b[0m \u001b[0;32min\u001b[0m \u001b[0mindices\u001b[0m\u001b[0;34m]\u001b[0m\u001b[0;34m)\u001b[0m  \u001b[0;31m# type: ignore[attr-defined]\u001b[0m\u001b[0;34m\u001b[0m\u001b[0;34m\u001b[0m\u001b[0m\n\u001b[1;32m    398\u001b[0m         \u001b[0;32melse\u001b[0m\u001b[0;34m:\u001b[0m\u001b[0;34m\u001b[0m\u001b[0;34m\u001b[0m\u001b[0m\n\u001b[0;32m--> 399\u001b[0;31m             \u001b[0;32mreturn\u001b[0m \u001b[0;34m[\u001b[0m\u001b[0mself\u001b[0m\u001b[0;34m.\u001b[0m\u001b[0mdataset\u001b[0m\u001b[0;34m[\u001b[0m\u001b[0mself\u001b[0m\u001b[0;34m.\u001b[0m\u001b[0mindices\u001b[0m\u001b[0;34m[\u001b[0m\u001b[0midx\u001b[0m\u001b[0;34m]\u001b[0m\u001b[0;34m]\u001b[0m \u001b[0;32mfor\u001b[0m \u001b[0midx\u001b[0m \u001b[0;32min\u001b[0m \u001b[0mindices\u001b[0m\u001b[0;34m]\u001b[0m\u001b[0;34m\u001b[0m\u001b[0;34m\u001b[0m\u001b[0m\n\u001b[0m\u001b[1;32m    400\u001b[0m \u001b[0;34m\u001b[0m\u001b[0m\n\u001b[1;32m    401\u001b[0m     \u001b[0;32mdef\u001b[0m \u001b[0m__len__\u001b[0m\u001b[0;34m(\u001b[0m\u001b[0mself\u001b[0m\u001b[0;34m)\u001b[0m\u001b[0;34m:\u001b[0m\u001b[0;34m\u001b[0m\u001b[0;34m\u001b[0m\u001b[0m\n",
            "\u001b[0;32m<ipython-input-28-8e95c6832aa3>\u001b[0m in \u001b[0;36m__getitem__\u001b[0;34m(self, idx)\u001b[0m\n\u001b[1;32m     22\u001b[0m     \u001b[0;32mdef\u001b[0m \u001b[0m__getitem__\u001b[0m\u001b[0;34m(\u001b[0m\u001b[0mself\u001b[0m\u001b[0;34m,\u001b[0m \u001b[0midx\u001b[0m\u001b[0;34m)\u001b[0m\u001b[0;34m:\u001b[0m\u001b[0;34m\u001b[0m\u001b[0;34m\u001b[0m\u001b[0m\n\u001b[1;32m     23\u001b[0m         \u001b[0mimage_path\u001b[0m \u001b[0;34m=\u001b[0m \u001b[0mself\u001b[0m\u001b[0;34m.\u001b[0m\u001b[0mimage_paths\u001b[0m\u001b[0;34m[\u001b[0m\u001b[0midx\u001b[0m\u001b[0;34m]\u001b[0m\u001b[0;34m\u001b[0m\u001b[0;34m\u001b[0m\u001b[0m\n\u001b[0;32m---> 24\u001b[0;31m         \u001b[0mimage\u001b[0m \u001b[0;34m=\u001b[0m \u001b[0mImage\u001b[0m\u001b[0;34m.\u001b[0m\u001b[0mopen\u001b[0m\u001b[0;34m(\u001b[0m\u001b[0mimage_path\u001b[0m\u001b[0;34m)\u001b[0m\u001b[0;34m.\u001b[0m\u001b[0mconvert\u001b[0m\u001b[0;34m(\u001b[0m\u001b[0;34m'RGB'\u001b[0m\u001b[0;34m)\u001b[0m\u001b[0;34m\u001b[0m\u001b[0;34m\u001b[0m\u001b[0m\n\u001b[0m\u001b[1;32m     25\u001b[0m         \u001b[0;31m#print(image.size)\u001b[0m\u001b[0;34m\u001b[0m\u001b[0;34m\u001b[0m\u001b[0m\n\u001b[1;32m     26\u001b[0m         \u001b[0;32mif\u001b[0m \u001b[0mself\u001b[0m\u001b[0;34m.\u001b[0m\u001b[0mtransform\u001b[0m\u001b[0;34m:\u001b[0m\u001b[0;34m\u001b[0m\u001b[0;34m\u001b[0m\u001b[0m\n",
            "\u001b[0;32m/usr/local/lib/python3.10/dist-packages/PIL/Image.py\u001b[0m in \u001b[0;36mopen\u001b[0;34m(fp, mode, formats)\u001b[0m\n\u001b[1;32m   3234\u001b[0m         \u001b[0mexclusive_fp\u001b[0m \u001b[0;34m=\u001b[0m \u001b[0;32mTrue\u001b[0m\u001b[0;34m\u001b[0m\u001b[0;34m\u001b[0m\u001b[0m\n\u001b[1;32m   3235\u001b[0m \u001b[0;34m\u001b[0m\u001b[0m\n\u001b[0;32m-> 3236\u001b[0;31m     \u001b[0mprefix\u001b[0m \u001b[0;34m=\u001b[0m \u001b[0mfp\u001b[0m\u001b[0;34m.\u001b[0m\u001b[0mread\u001b[0m\u001b[0;34m(\u001b[0m\u001b[0;36m16\u001b[0m\u001b[0;34m)\u001b[0m\u001b[0;34m\u001b[0m\u001b[0;34m\u001b[0m\u001b[0m\n\u001b[0m\u001b[1;32m   3237\u001b[0m \u001b[0;34m\u001b[0m\u001b[0m\n\u001b[1;32m   3238\u001b[0m     \u001b[0mpreinit\u001b[0m\u001b[0;34m(\u001b[0m\u001b[0;34m)\u001b[0m\u001b[0;34m\u001b[0m\u001b[0;34m\u001b[0m\u001b[0m\n",
            "\u001b[0;31mKeyboardInterrupt\u001b[0m: "
          ]
        }
      ],
      "source": [
        "# Training of the Autoencoder\n",
        "\n",
        "# Define transformations\n",
        "transform = transforms.Compose([\n",
        "    transforms.Resize((224, 224)),  # Assuming this is the input size for your autoencoder\n",
        "    transforms.ToTensor(),\n",
        "])\n",
        "\n",
        "# Création de l'instance du modèle\n",
        "autoencoder = AutoEncoder()\n",
        "\n",
        "# Mettre le modèle sur le bon appareil (CPU ou GPU)\n",
        "device = torch.device(\"cuda\" if torch.cuda.is_available() else \"cpu\")\n",
        "autoencoder = autoencoder.to(device)\n",
        "criterion = nn.MSELoss()\n",
        "optimizer = optim.Adam(autoencoder.parameters(), lr=1e-4)\n",
        "num_epochs = 100\n",
        "\n",
        "\n",
        "best_val_loss=10000\n",
        "\n",
        "# Training loop (simplified for clarity)\n",
        "for epoch in range(num_epochs):\n",
        "    for iter, images in tqdm(enumerate(train_dataloader)):\n",
        "        images = images.to(device)  # Ensure images are on the correct device\n",
        "\n",
        "        optimizer.zero_grad()\n",
        "        output = autoencoder(images)[0]  # Adjust based on your model's return values\n",
        "        #print(output.shape)\n",
        "        loss = criterion(output, images)\n",
        "        loss.backward()\n",
        "        optimizer.step()\n",
        "\n",
        "    print(f'Epoch [{epoch+1}/{num_epochs}], Loss: {loss.item():.4f}')\n",
        "\n",
        "    if epoch %10==0:\n",
        "      val_loss = 0.0\n",
        "      with torch.no_grad():  # Pas besoin de calculer les gradients pour la validation\n",
        "            for images in valid_dataloader:\n",
        "                images = images.to(device)\n",
        "                output = autoencoder(images)[0]\n",
        "                loss = criterion(output, images)\n",
        "                val_loss += loss.item()\n",
        "      val_loss /= len(valid_dataloader)\n",
        "\n",
        "      if val_loss < best_val_loss:\n",
        "            print(f'Validation loss decreased ({best_val_loss:.4f} --> {val_loss:.4f}). Saving model ...')\n",
        "            best_val_loss = val_loss\n",
        "            torch.save(autoencoder.state_dict(), f\"/content/drive/MyDrive/MVA/DLMI/model{epoch}.pt\")\n",
        "\n"
      ]
    },
    {
      "cell_type": "code",
      "execution_count": 86,
      "metadata": {
        "id": "UqfqpaVZPjDK"
      },
      "outputs": [],
      "source": [
        "'''\n",
        "Attention based MIL\n",
        "'''\n",
        "class Aggregation_attention(nn.Module):\n",
        "    def __init__(self):\n",
        "        super(Aggregation_attention, self).__init__()\n",
        "        self.M = 60\n",
        "        self.L = 128\n",
        "        self.ATTENTION_BRANCHES = 1\n",
        "\n",
        "        self.feature_extractor_part1 = nn.Sequential(\n",
        "            nn.Conv2d(1, 20, kernel_size=5),\n",
        "            nn.ReLU(),\n",
        "            nn.MaxPool2d(2, stride=2),\n",
        "            nn.Conv2d(20, 50, kernel_size=5),\n",
        "            nn.ReLU(),\n",
        "            nn.MaxPool2d(2, stride=2)\n",
        "        )\n",
        "\n",
        "        self.feature_extractor_part2 = nn.Sequential(\n",
        "            nn.Linear(50 * 4 * 4, self.M),\n",
        "            nn.ReLU(),\n",
        "        )\n",
        "\n",
        "        self.attention_V = nn.Sequential(\n",
        "            nn.Linear(self.M, self.L), # matrix V\n",
        "            nn.Tanh()\n",
        "        )\n",
        "\n",
        "        self.attention_U = nn.Sequential(\n",
        "            nn.Linear(self.M, self.L), # matrix U\n",
        "            nn.Sigmoid()\n",
        "        )\n",
        "\n",
        "        self.attention_w = nn.Linear(self.L, self.ATTENTION_BRANCHES) # matrix w (or vector w if self.ATTENTION_BRANCHES==1)\n",
        "\n",
        "        self.classifier = nn.Sequential(\n",
        "            nn.Linear(self.M*self.ATTENTION_BRANCHES, 1),\n",
        "            nn.Sigmoid()\n",
        "        )\n",
        "\n",
        "    def forward(self, H):\n",
        "        '''\n",
        "        H must be size batch_size * emb_dim\n",
        "        '''\n",
        "        #x = x.squeeze(0)\n",
        "\n",
        "        #H = self.feature_extractor_part1(x)\n",
        "        #H = H.view(-1, 50 * 4 * 4)\n",
        "        #H = self.feature_extractor_part2(H)  # KxM\n",
        "\n",
        "        A_V = self.attention_V(H)  # KxL\n",
        "        A_U = self.attention_U(H)  # KxL\n",
        "        A = self.attention_w(A_V * A_U) # element wise multiplication # KxATTENTION_BRANCHES\n",
        "        A = torch.transpose(A, 1, 0)  # ATTENTION_BRANCHESxK\n",
        "        A = F.softmax(A, dim=1)  # softmax over K\n",
        "        #print(A.shape)\n",
        "        #print(H.shape)\n",
        "        Z = torch.mm(A, H)  # ATTENTION_BRANCHESxM\n",
        "\n",
        "        #Y_prob = self.classifier(Z)\n",
        "        #Y_hat = torch.ge(Y_prob, 0.5).float()\n",
        "\n",
        "        return Z\n",
        "\n"
      ]
    },
    {
      "cell_type": "code",
      "execution_count": 45,
      "metadata": {
        "id": "L3xL9WrLEGwt"
      },
      "outputs": [],
      "source": [
        "class BinaryClassifier(nn.Module):\n",
        "    def __init__(self, input_size):\n",
        "        super(BinaryClassifier, self).__init__()\n",
        "        self.fc1 = nn.Linear(input_size, 128)  \n",
        "        self.fc2 = nn.Linear(128, 64)  \n",
        "        self.fc3 = nn.Linear(64, 1)   \n",
        "\n",
        "    def forward(self, x):\n",
        "        x = F.relu(self.fc1(x))  \n",
        "        x = F.relu(self.fc2(x))  \n",
        "        x = torch.sigmoid(self.fc3(x))  \n",
        "        return x"
      ]
    },
    {
      "cell_type": "code",
      "execution_count": 98,
      "metadata": {
        "id": "Z5F47UZXEgaM"
      },
      "outputs": [],
      "source": [
        "class Final_Model(nn.Module):\n",
        "    def __init__(self, encoder, bag_aggregator, classifier):\n",
        "        super(Final_Model, self).__init__()\n",
        "        self.encoder = encoder\n",
        "        self.bag_aggregator = bag_aggregator\n",
        "\n",
        "        self.classifier = classifier\n",
        "\n",
        "    def forward(self, list_images, feats):\n",
        "        batch_features = []\n",
        "        for patient_images in list_images:\n",
        "            patient_features = []\n",
        "            for image in patient_images:\n",
        "                image = image.to(device)\n",
        "                output = self.encoder(image.unsqueeze(0))[0]\n",
        "                patient_features.append(output)\n",
        "            # Aggregate features for each patient, e.g., by averaging\n",
        "            #print(torch.stack(patient_features, dim=0).squeeze(1).shape)\n",
        "            patient_features = self.bag_aggregator(torch.stack(patient_features, dim=0).squeeze(1))\n",
        "            batch_features.append(patient_features)\n",
        "        batch_features_tensor = torch.stack(batch_features)\n",
        "        #print(\"batch feature\", batch_features_tensor.shape)\n",
        "        #print(feats.shape)\n",
        "        #if type(x)==tuple:\n",
        "         #   x = x[0]\n",
        "\n",
        "        # Size : (batch size, embedding dimension)\n",
        "        #p = self.bag_aggregator(x)\n",
        "        # Size : (batch size, 1 or embedding dimension)\n",
        "        if feats is not None:\n",
        "            # Concatenate additional features\n",
        "            p = torch.cat((batch_features_tensor.squeeze(1), feats), 1)\n",
        "            # Size : (batch size, 1 + features dim or embedding dimension + features dim)\n",
        "        #print('p', p.shape)\n",
        "        out = self.classifier(p)\n",
        "        # Size : (1, num classes)\n",
        "        return out"
      ]
    },
    {
      "cell_type": "code",
      "execution_count": null,
      "metadata": {
        "colab": {
          "base_uri": "https://localhost:8080/"
        },
        "execution": {
          "iopub.execute_input": "2024-03-26T09:02:39.649846Z",
          "iopub.status.busy": "2024-03-26T09:02:39.649469Z",
          "iopub.status.idle": "2024-03-26T09:02:46.660982Z",
          "shell.execute_reply": "2024-03-26T09:02:46.659528Z",
          "shell.execute_reply.started": "2024-03-26T09:02:39.649816Z"
        },
        "id": "8KamMg7BAu5a",
        "outputId": "e873dec2-057b-4604-fcc6-30b37b4d5df8",
        "trusted": true
      },
      "outputs": [
        {
          "name": "stdout",
          "output_type": "stream",
          "text": [
            "cuda\n",
            "Epoch [1/500], Loss: 0.4160\n"
          ]
        },
        {
          "name": "stderr",
          "output_type": "stream",
          "text": [
            "/usr/local/lib/python3.10/dist-packages/sklearn/metrics/_classification.py:1344: UndefinedMetricWarning: Precision and F-score are ill-defined and being set to 0.0 in labels with no predicted samples. Use `zero_division` parameter to control this behavior.\n",
            "  _warn_prf(average, modifier, msg_start, len(result))\n",
            "/usr/local/lib/python3.10/dist-packages/sklearn/metrics/_classification.py:1344: UndefinedMetricWarning: Precision and F-score are ill-defined and being set to 0.0 in labels with no predicted samples. Use `zero_division` parameter to control this behavior.\n",
            "  _warn_prf(average, modifier, msg_start, len(result))\n",
            "/usr/local/lib/python3.10/dist-packages/sklearn/metrics/_classification.py:1344: UndefinedMetricWarning: Precision and F-score are ill-defined and being set to 0.0 in labels with no predicted samples. Use `zero_division` parameter to control this behavior.\n",
            "  _warn_prf(average, modifier, msg_start, len(result))\n"
          ]
        },
        {
          "name": "stdout",
          "output_type": "stream",
          "text": [
            "              precision    recall  f1-score   support\n",
            "\n",
            "         0.0       0.00      0.00      0.00        12\n",
            "         1.0       0.62      1.00      0.77        20\n",
            "\n",
            "    accuracy                           0.62        32\n",
            "   macro avg       0.31      0.50      0.38        32\n",
            "weighted avg       0.39      0.62      0.48        32\n",
            "\n",
            "Balanced Accuracy on Validation Set: 0.5000\n",
            "Accuracy on Validation Set: 0.6250\n"
          ]
        }
      ],
      "source": [
        "device = \"cuda\"\n",
        "# Model, Optimizer, and Loss\n",
        "state_dict = torch.load('/content/drive/MyDrive/MVA/DLMI/model30.pt')\n",
        "#encoder = torch.load('/kaggle/working/second_model.pt')\n",
        "encoder = Encoder()\n",
        "encoder_state_dict = {k.partition('encoder.')[2]: v for k, v in state_dict.items() if k.startswith('encoder.')}\n",
        "\n",
        "# Charger les paramètres filtrés dans l'encodeur\n",
        "encoder.load_state_dict(encoder_state_dict)\n",
        "#encoder.load_state_dict(etat_modele)\n",
        "bag_aggregator = Aggregation_attention()\n",
        "classifier = BinaryClassifier(input_size = 63)\n",
        "model = Final_Model(encoder, bag_aggregator, classifier)\n",
        "#class_weights = compute_class_weight('balanced', classes, train_dataset.labels)\n",
        "#class_weights = torch.tensor(class_weights, dtype=torch.float).to(device)\n",
        "\n",
        "# Modify the loss function to incorporate class weights\n",
        "#criterion = nn.CrossEntropyLoss(weight=class_weights)\n",
        "#weights = torch.tensor([0.4]).to(device)\n",
        "criterion = nn.BCELoss()\n",
        "#etat_modele = torch.load('/kaggle/working/second_model.pt')\n",
        "#model = torch.load('/kaggle/working/second_model.pt')\n",
        "# Appliquer l'état chargé au modèle\n",
        "#model.load_state_dict(etat_modele)\n",
        "optimizer = optim.Adam(model.parameters(), lr=0.0001, betas=(0.9, 0.999), weight_decay=0.0005)\n",
        "#scheduler = optim.lr_scheduler.StepLR(optimizer, step_size=96000, gamma=0.1)\n",
        "#etat_modele = torch.load('/kaggle/working/second_model.pt')\n",
        "\n",
        "#model = torch.load('/kaggle/working/second_model.pt')\n",
        "# Move model to GPU if available\n",
        "device = torch.device(\"cuda\" if torch.cuda.is_available() else \"cpu\")\n",
        "print(device)\n",
        "model.to(device)\n",
        "\n",
        "# Training Loop\n",
        "num_epochs = 500\n",
        "iteration = 0\n",
        "best_val_loss = float('inf')\n",
        "best_accu = 0\n",
        "i=0\n",
        "\n",
        "for epoch in range(num_epochs):\n",
        "    model.train()\n",
        "    running_loss = 0.0\n",
        "\n",
        "    for batch in dataloader_train:\n",
        "      #print(\"new batch\")\n",
        "        images, clinical_data, labels = batch\n",
        "\n",
        "        # Zero the parameter gradients\n",
        "        optimizer.zero_grad()\n",
        "\n",
        "\n",
        "        # Forward pass\n",
        "        outputs = model(images, clinical_data.to(device))\n",
        "      #print(\"outputs\", outputs)\n",
        "\n",
        "\n",
        "        # Calculate loss\n",
        "        loss = criterion(outputs, labels.view(-1, 1).type_as(outputs))  # Reshape and cast labels\n",
        "\n",
        "        # Backward pass and optimize\n",
        "        loss.backward()\n",
        "        optimizer.step()\n",
        "      #print(\"loss\", loss)\n",
        "\n",
        "        running_loss += loss.item()\n",
        "\n",
        "    epoch_loss = running_loss / len(dataloader.dataset)\n",
        "    print(f'Epoch [{epoch+1}/{num_epochs}], Loss: {epoch_loss:.4f}')\n",
        "    torch.save(model.state_dict(), \"second_epochs_model.pt\")\n",
        "    if (epoch) % 10 == 0:  # Every 10 epochs\n",
        "        model.eval()\n",
        "        all_preds = []\n",
        "        all_labels = []\n",
        "        with torch.no_grad():\n",
        "            for batch in dataloader_valid:\n",
        "                images, clinical_data, labels = batch\n",
        "                #images = images.to(device)\n",
        "                #clinical_data = clinical_data.to(device)\n",
        "                #labels = labels.to(device)\n",
        "\n",
        "                outputs = model(images, clinical_data.to(device))\n",
        "                preds = (outputs).round()  # Get binary predictions\n",
        "\n",
        "                all_preds.extend(preds.view(-1).cpu().numpy())\n",
        "                all_labels.extend(labels.view(-1).cpu().numpy())\n",
        "\n",
        "        # Calculate balanced accuracy\n",
        "        balanced_acc = balanced_accuracy_score(all_labels, all_preds)\n",
        "        if balanced_acc > best_accu:\n",
        "            best_accu = balanced_acc\n",
        "            nom_modele = \"modele_{}.pt\".format(i)\n",
        "            i+=1\n",
        "            torch.save(model.state_dict(), nom_modele)\n",
        "\n",
        "        accuracy = accuracy_score(all_labels, all_preds)\n",
        "        print(classification_report(all_labels, all_preds))\n",
        "        print(f'Balanced Accuracy on Validation Set: {balanced_acc:.4f}')\n",
        "        print(f'Accuracy on Validation Set: {accuracy:.4f}')"
      ]
    },
    {
      "cell_type": "code",
      "execution_count": null,
      "metadata": {
        "execution": {
          "iopub.execute_input": "2024-03-21T09:50:20.596147Z",
          "iopub.status.busy": "2024-03-21T09:50:20.595414Z",
          "iopub.status.idle": "2024-03-21T09:50:35.060763Z",
          "shell.execute_reply": "2024-03-21T09:50:35.059748Z",
          "shell.execute_reply.started": "2024-03-21T09:50:20.596113Z"
        },
        "id": "SPAGHT-zAu5d",
        "outputId": "2e0bd92a-572a-497d-a4e4-2d287de50a72",
        "trusted": true
      },
      "outputs": [
        {
          "name": "stdout",
          "output_type": "stream",
          "text": [
            "              precision    recall  f1-score   support\n",
            "\n",
            "         0.0       0.60      1.00      0.75         9\n",
            "         1.0       1.00      0.74      0.85        23\n",
            "\n",
            "    accuracy                           0.81        32\n",
            "   macro avg       0.80      0.87      0.80        32\n",
            "weighted avg       0.89      0.81      0.82        32\n",
            "\n",
            "Balanced Accuracy on Validation Set: 0.8696\n",
            "Accuracy on Validation Set: 0.8125\n"
          ]
        }
      ],
      "source": [
        "\n",
        "model.eval()\n",
        "all_preds = []\n",
        "all_labels = []\n",
        "with torch.no_grad():\n",
        "    for batch in dataloader_valid:\n",
        "        images, clinical_data, labels = batch\n",
        "                #images = images.to(device)\n",
        "                #clinical_data = clinical_data.to(device)\n",
        "                #labels = labels.to(device)\n",
        "\n",
        "        outputs = model(images, clinical_data.to(device))\n",
        "        preds = torch.sigmoid(outputs).round()  # Get binary predictions\n",
        "\n",
        "        all_preds.extend(preds.view(-1).cpu().numpy())\n",
        "        all_labels.extend(labels.view(-1).cpu().numpy())\n",
        "\n",
        "        # Calculate balanced accuracy\n",
        "    balanced_acc = balanced_accuracy_score(all_labels, all_preds)\n",
        "    accuracy = accuracy_score(all_labels, all_preds)\n",
        "    print(classification_report(all_labels, all_preds))\n",
        "    print(f'Balanced Accuracy on Validation Set: {balanced_acc:.4f}')\n",
        "    print(f'Accuracy on Validation Set: {accuracy:.4f}')"
      ]
    },
    {
      "cell_type": "code",
      "execution_count": null,
      "metadata": {
        "execution": {
          "iopub.execute_input": "2024-03-21T09:56:50.353702Z",
          "iopub.status.busy": "2024-03-21T09:56:50.352970Z",
          "iopub.status.idle": "2024-03-21T09:57:02.768461Z",
          "shell.execute_reply": "2024-03-21T09:57:02.766974Z",
          "shell.execute_reply.started": "2024-03-21T09:56:50.353668Z"
        },
        "id": "ymR7ZwpWAu5e",
        "trusted": true
      },
      "outputs": [],
      "source": [
        "model.eval()\n",
        "all_preds = []\n",
        "all_labels = []\n",
        "with torch.no_grad():\n",
        "    for batch in dataloader_test:\n",
        "        images, clinical_data, labels = batch\n",
        "                #images = images.to(device)\n",
        "                #clinical_data = clinical_data.to(device)\n",
        "                #labels = labels.to(device)\n",
        "\n",
        "        outputs = model(images, clinical_data.to(device))\n",
        "        preds = torch.sigmoid(outputs).round()  # Get binary predictions\n",
        "\n",
        "        all_preds.extend(preds.view(-1).cpu().numpy())\n",
        "        #all_labels.extend(labels.view(-1).cpu().numpy())\n",
        "\n",
        "        # Calculate balanced accuracy\n"
      ]
    },
    {
      "cell_type": "code",
      "execution_count": null,
      "metadata": {
        "execution": {
          "iopub.execute_input": "2024-03-21T09:57:10.276327Z",
          "iopub.status.busy": "2024-03-21T09:57:10.275688Z",
          "iopub.status.idle": "2024-03-21T09:57:10.283382Z",
          "shell.execute_reply": "2024-03-21T09:57:10.282431Z",
          "shell.execute_reply.started": "2024-03-21T09:57:10.276282Z"
        },
        "id": "igRsDK_3Au5f",
        "outputId": "94468e7e-b071-4ac5-c025-46505252ed3c",
        "trusted": true
      },
      "outputs": [
        {
          "data": {
            "text/plain": [
              "[0.0,\n",
              " 1.0,\n",
              " 1.0,\n",
              " 0.0,\n",
              " 0.0,\n",
              " 1.0,\n",
              " 1.0,\n",
              " 0.0,\n",
              " 1.0,\n",
              " 0.0,\n",
              " 0.0,\n",
              " 0.0,\n",
              " 0.0,\n",
              " 1.0,\n",
              " 1.0,\n",
              " 0.0,\n",
              " 0.0,\n",
              " 0.0,\n",
              " 0.0,\n",
              " 1.0,\n",
              " 1.0,\n",
              " 1.0,\n",
              " 0.0,\n",
              " 1.0,\n",
              " 0.0,\n",
              " 0.0,\n",
              " 1.0,\n",
              " 1.0,\n",
              " 1.0,\n",
              " 0.0,\n",
              " 0.0,\n",
              " 0.0,\n",
              " 1.0,\n",
              " 0.0,\n",
              " 1.0,\n",
              " 1.0,\n",
              " 0.0,\n",
              " 0.0,\n",
              " 0.0,\n",
              " 0.0,\n",
              " 0.0,\n",
              " 0.0]"
            ]
          },
          "execution_count": 21,
          "metadata": {},
          "output_type": "execute_result"
        }
      ],
      "source": [
        "all_preds"
      ]
    },
    {
      "cell_type": "code",
      "execution_count": null,
      "metadata": {
        "execution": {
          "iopub.execute_input": "2024-03-20T17:14:26.433560Z",
          "iopub.status.busy": "2024-03-20T17:14:26.432698Z",
          "iopub.status.idle": "2024-03-20T17:14:26.455919Z",
          "shell.execute_reply": "2024-03-20T17:14:26.455019Z",
          "shell.execute_reply.started": "2024-03-20T17:14:26.433525Z"
        },
        "id": "jOrdhplTAu5f",
        "outputId": "4d411412-5e3c-40c8-b51f-a6388e0ac8ab",
        "trusted": true
      },
      "outputs": [
        {
          "data": {
            "text/html": [
              "<div>\n",
              "<style scoped>\n",
              "    .dataframe tbody tr th:only-of-type {\n",
              "        vertical-align: middle;\n",
              "    }\n",
              "\n",
              "    .dataframe tbody tr th {\n",
              "        vertical-align: top;\n",
              "    }\n",
              "\n",
              "    .dataframe thead th {\n",
              "        text-align: right;\n",
              "    }\n",
              "</style>\n",
              "<table border=\"1\" class=\"dataframe\">\n",
              "  <thead>\n",
              "    <tr style=\"text-align: right;\">\n",
              "      <th></th>\n",
              "      <th>ID</th>\n",
              "      <th>LABEL</th>\n",
              "    </tr>\n",
              "  </thead>\n",
              "  <tbody>\n",
              "    <tr>\n",
              "      <th>0</th>\n",
              "      <td>P9</td>\n",
              "      <td>0</td>\n",
              "    </tr>\n",
              "    <tr>\n",
              "      <th>1</th>\n",
              "      <td>P172</td>\n",
              "      <td>1</td>\n",
              "    </tr>\n",
              "    <tr>\n",
              "      <th>2</th>\n",
              "      <td>P57</td>\n",
              "      <td>0</td>\n",
              "    </tr>\n",
              "    <tr>\n",
              "      <th>3</th>\n",
              "      <td>P16</td>\n",
              "      <td>0</td>\n",
              "    </tr>\n",
              "    <tr>\n",
              "      <th>4</th>\n",
              "      <td>P203</td>\n",
              "      <td>0</td>\n",
              "    </tr>\n",
              "  </tbody>\n",
              "</table>\n",
              "</div>"
            ],
            "text/plain": [
              "     ID  LABEL\n",
              "0    P9      0\n",
              "1  P172      1\n",
              "2   P57      0\n",
              "3   P16      0\n",
              "4  P203      0"
            ]
          },
          "execution_count": 24,
          "metadata": {},
          "output_type": "execute_result"
        }
      ],
      "source": [
        "submission = pd.read_csv(\"/kaggle/input/dlmi-datachallenge/dlmi-lymphocytosis-classification-2/sample_submission.csv\")\n",
        "submission.head()"
      ]
    },
    {
      "cell_type": "code",
      "execution_count": null,
      "metadata": {
        "execution": {
          "iopub.execute_input": "2024-03-21T09:57:20.252457Z",
          "iopub.status.busy": "2024-03-21T09:57:20.251836Z",
          "iopub.status.idle": "2024-03-21T09:57:20.266032Z",
          "shell.execute_reply": "2024-03-21T09:57:20.265202Z",
          "shell.execute_reply.started": "2024-03-21T09:57:20.252426Z"
        },
        "id": "WgwE-dRKAu5g",
        "trusted": true
      },
      "outputs": [],
      "source": [
        "test_soumission = pd.read_csv(\"/kaggle/input/dlmi-datachallenge/dlmi-lymphocytosis-classification-2/clinical_annotation.csv\", index_col=0)\n",
        "test_soumission = test_soumission[test_soumission['LABEL'] == -1]"
      ]
    },
    {
      "cell_type": "code",
      "execution_count": null,
      "metadata": {
        "execution": {
          "iopub.execute_input": "2024-03-21T09:57:23.752622Z",
          "iopub.status.busy": "2024-03-21T09:57:23.752237Z",
          "iopub.status.idle": "2024-03-21T09:57:23.774685Z",
          "shell.execute_reply": "2024-03-21T09:57:23.773815Z",
          "shell.execute_reply.started": "2024-03-21T09:57:23.752594Z"
        },
        "id": "EDknIao8Au5h",
        "outputId": "cb42fdcb-185e-400a-ade1-22456aae3900",
        "trusted": true
      },
      "outputs": [
        {
          "data": {
            "text/html": [
              "<div>\n",
              "<style scoped>\n",
              "    .dataframe tbody tr th:only-of-type {\n",
              "        vertical-align: middle;\n",
              "    }\n",
              "\n",
              "    .dataframe tbody tr th {\n",
              "        vertical-align: top;\n",
              "    }\n",
              "\n",
              "    .dataframe thead th {\n",
              "        text-align: right;\n",
              "    }\n",
              "</style>\n",
              "<table border=\"1\" class=\"dataframe\">\n",
              "  <thead>\n",
              "    <tr style=\"text-align: right;\">\n",
              "      <th></th>\n",
              "      <th>ID</th>\n",
              "      <th>LABEL</th>\n",
              "      <th>GENDER</th>\n",
              "      <th>DOB</th>\n",
              "      <th>LYMPH_COUNT</th>\n",
              "    </tr>\n",
              "  </thead>\n",
              "  <tbody>\n",
              "    <tr>\n",
              "      <th>6</th>\n",
              "      <td>P71</td>\n",
              "      <td>-1</td>\n",
              "      <td>M</td>\n",
              "      <td>1/17/1946</td>\n",
              "      <td>5.76</td>\n",
              "    </tr>\n",
              "    <tr>\n",
              "      <th>9</th>\n",
              "      <td>P16</td>\n",
              "      <td>-1</td>\n",
              "      <td>M</td>\n",
              "      <td>3/5/1940</td>\n",
              "      <td>32.00</td>\n",
              "    </tr>\n",
              "    <tr>\n",
              "      <th>12</th>\n",
              "      <td>P114</td>\n",
              "      <td>-1</td>\n",
              "      <td>M</td>\n",
              "      <td>6/16/1929</td>\n",
              "      <td>4.60</td>\n",
              "    </tr>\n",
              "    <tr>\n",
              "      <th>15</th>\n",
              "      <td>P170</td>\n",
              "      <td>-1</td>\n",
              "      <td>M</td>\n",
              "      <td>11/3/1933</td>\n",
              "      <td>4.80</td>\n",
              "    </tr>\n",
              "    <tr>\n",
              "      <th>18</th>\n",
              "      <td>P98</td>\n",
              "      <td>-1</td>\n",
              "      <td>F</td>\n",
              "      <td>5/14/1970</td>\n",
              "      <td>6.24</td>\n",
              "    </tr>\n",
              "    <tr>\n",
              "      <th>23</th>\n",
              "      <td>P69</td>\n",
              "      <td>-1</td>\n",
              "      <td>M</td>\n",
              "      <td>4/4/1979</td>\n",
              "      <td>7.47</td>\n",
              "    </tr>\n",
              "    <tr>\n",
              "      <th>29</th>\n",
              "      <td>P92</td>\n",
              "      <td>-1</td>\n",
              "      <td>F</td>\n",
              "      <td>3/21/1947</td>\n",
              "      <td>55.26</td>\n",
              "    </tr>\n",
              "    <tr>\n",
              "      <th>30</th>\n",
              "      <td>P132</td>\n",
              "      <td>-1</td>\n",
              "      <td>M</td>\n",
              "      <td>8/24/1945</td>\n",
              "      <td>24.70</td>\n",
              "    </tr>\n",
              "    <tr>\n",
              "      <th>31</th>\n",
              "      <td>P81</td>\n",
              "      <td>-1</td>\n",
              "      <td>M</td>\n",
              "      <td>11/22/1958</td>\n",
              "      <td>64.86</td>\n",
              "    </tr>\n",
              "    <tr>\n",
              "      <th>41</th>\n",
              "      <td>P73</td>\n",
              "      <td>-1</td>\n",
              "      <td>F</td>\n",
              "      <td>6/21/1923</td>\n",
              "      <td>4.28</td>\n",
              "    </tr>\n",
              "    <tr>\n",
              "      <th>46</th>\n",
              "      <td>P143</td>\n",
              "      <td>-1</td>\n",
              "      <td>F</td>\n",
              "      <td>8/15/1927</td>\n",
              "      <td>38.34</td>\n",
              "    </tr>\n",
              "    <tr>\n",
              "      <th>50</th>\n",
              "      <td>P175</td>\n",
              "      <td>-1</td>\n",
              "      <td>M</td>\n",
              "      <td>2/19/1954</td>\n",
              "      <td>26.24</td>\n",
              "    </tr>\n",
              "    <tr>\n",
              "      <th>62</th>\n",
              "      <td>P56</td>\n",
              "      <td>-1</td>\n",
              "      <td>M</td>\n",
              "      <td>9/12/1972</td>\n",
              "      <td>6.55</td>\n",
              "    </tr>\n",
              "    <tr>\n",
              "      <th>67</th>\n",
              "      <td>P139</td>\n",
              "      <td>-1</td>\n",
              "      <td>F</td>\n",
              "      <td>3/20/1961</td>\n",
              "      <td>14.48</td>\n",
              "    </tr>\n",
              "    <tr>\n",
              "      <th>72</th>\n",
              "      <td>P152</td>\n",
              "      <td>-1</td>\n",
              "      <td>F</td>\n",
              "      <td>4/4/1938</td>\n",
              "      <td>5.89</td>\n",
              "    </tr>\n",
              "    <tr>\n",
              "      <th>73</th>\n",
              "      <td>P203</td>\n",
              "      <td>-1</td>\n",
              "      <td>M</td>\n",
              "      <td>7/22/1984</td>\n",
              "      <td>7.68</td>\n",
              "    </tr>\n",
              "    <tr>\n",
              "      <th>75</th>\n",
              "      <td>P75</td>\n",
              "      <td>-1</td>\n",
              "      <td>M</td>\n",
              "      <td>4/25/1946</td>\n",
              "      <td>84.54</td>\n",
              "    </tr>\n",
              "    <tr>\n",
              "      <th>84</th>\n",
              "      <td>P9</td>\n",
              "      <td>-1</td>\n",
              "      <td>F</td>\n",
              "      <td>8/12/1934</td>\n",
              "      <td>15.38</td>\n",
              "    </tr>\n",
              "    <tr>\n",
              "      <th>93</th>\n",
              "      <td>P24</td>\n",
              "      <td>-1</td>\n",
              "      <td>F</td>\n",
              "      <td>8/3/1963</td>\n",
              "      <td>4.08</td>\n",
              "    </tr>\n",
              "    <tr>\n",
              "      <th>94</th>\n",
              "      <td>P4</td>\n",
              "      <td>-1</td>\n",
              "      <td>M</td>\n",
              "      <td>4/9/1977</td>\n",
              "      <td>5.27</td>\n",
              "    </tr>\n",
              "    <tr>\n",
              "      <th>95</th>\n",
              "      <td>P32</td>\n",
              "      <td>-1</td>\n",
              "      <td>F</td>\n",
              "      <td>12/29/1964</td>\n",
              "      <td>217.59</td>\n",
              "    </tr>\n",
              "    <tr>\n",
              "      <th>98</th>\n",
              "      <td>P120</td>\n",
              "      <td>-1</td>\n",
              "      <td>M</td>\n",
              "      <td>4/9/1950</td>\n",
              "      <td>47.01</td>\n",
              "    </tr>\n",
              "    <tr>\n",
              "      <th>101</th>\n",
              "      <td>P138</td>\n",
              "      <td>-1</td>\n",
              "      <td>F</td>\n",
              "      <td>4/29/1932</td>\n",
              "      <td>15.43</td>\n",
              "    </tr>\n",
              "    <tr>\n",
              "      <th>110</th>\n",
              "      <td>P172</td>\n",
              "      <td>-1</td>\n",
              "      <td>M</td>\n",
              "      <td>6/8/1965</td>\n",
              "      <td>35.73</td>\n",
              "    </tr>\n",
              "    <tr>\n",
              "      <th>120</th>\n",
              "      <td>P57</td>\n",
              "      <td>-1</td>\n",
              "      <td>M</td>\n",
              "      <td>10/12/1959</td>\n",
              "      <td>4.25</td>\n",
              "    </tr>\n",
              "    <tr>\n",
              "      <th>122</th>\n",
              "      <td>P195</td>\n",
              "      <td>-1</td>\n",
              "      <td>M</td>\n",
              "      <td>9/3/1931</td>\n",
              "      <td>184.16</td>\n",
              "    </tr>\n",
              "    <tr>\n",
              "      <th>126</th>\n",
              "      <td>P68</td>\n",
              "      <td>-1</td>\n",
              "      <td>M</td>\n",
              "      <td>2/28/1980</td>\n",
              "      <td>4.29</td>\n",
              "    </tr>\n",
              "    <tr>\n",
              "      <th>128</th>\n",
              "      <td>P133</td>\n",
              "      <td>-1</td>\n",
              "      <td>M</td>\n",
              "      <td>5/3/1952</td>\n",
              "      <td>7.49</td>\n",
              "    </tr>\n",
              "    <tr>\n",
              "      <th>130</th>\n",
              "      <td>P14</td>\n",
              "      <td>-1</td>\n",
              "      <td>F</td>\n",
              "      <td>8/20/1932</td>\n",
              "      <td>6.53</td>\n",
              "    </tr>\n",
              "    <tr>\n",
              "      <th>134</th>\n",
              "      <td>P119</td>\n",
              "      <td>-1</td>\n",
              "      <td>F</td>\n",
              "      <td>11/22/1965</td>\n",
              "      <td>8.30</td>\n",
              "    </tr>\n",
              "    <tr>\n",
              "      <th>138</th>\n",
              "      <td>P7</td>\n",
              "      <td>-1</td>\n",
              "      <td>M</td>\n",
              "      <td>4/2/1999</td>\n",
              "      <td>4.09</td>\n",
              "    </tr>\n",
              "    <tr>\n",
              "      <th>145</th>\n",
              "      <td>P49</td>\n",
              "      <td>-1</td>\n",
              "      <td>M</td>\n",
              "      <td>6/1/1981</td>\n",
              "      <td>10.10</td>\n",
              "    </tr>\n",
              "    <tr>\n",
              "      <th>164</th>\n",
              "      <td>P93</td>\n",
              "      <td>-1</td>\n",
              "      <td>F</td>\n",
              "      <td>11/19/1957</td>\n",
              "      <td>10.37</td>\n",
              "    </tr>\n",
              "    <tr>\n",
              "      <th>166</th>\n",
              "      <td>P178</td>\n",
              "      <td>-1</td>\n",
              "      <td>M</td>\n",
              "      <td>10/1/1979</td>\n",
              "      <td>5.39</td>\n",
              "    </tr>\n",
              "    <tr>\n",
              "      <th>177</th>\n",
              "      <td>P58</td>\n",
              "      <td>-1</td>\n",
              "      <td>F</td>\n",
              "      <td>07-11-1964</td>\n",
              "      <td>5.59</td>\n",
              "    </tr>\n",
              "    <tr>\n",
              "      <th>178</th>\n",
              "      <td>P108</td>\n",
              "      <td>-1</td>\n",
              "      <td>F</td>\n",
              "      <td>17-11-1929</td>\n",
              "      <td>6.22</td>\n",
              "    </tr>\n",
              "    <tr>\n",
              "      <th>183</th>\n",
              "      <td>P197</td>\n",
              "      <td>-1</td>\n",
              "      <td>F</td>\n",
              "      <td>02-07-1997</td>\n",
              "      <td>6.19</td>\n",
              "    </tr>\n",
              "    <tr>\n",
              "      <th>191</th>\n",
              "      <td>P196</td>\n",
              "      <td>-1</td>\n",
              "      <td>F</td>\n",
              "      <td>08-02-1945</td>\n",
              "      <td>6.98</td>\n",
              "    </tr>\n",
              "    <tr>\n",
              "      <th>193</th>\n",
              "      <td>P86</td>\n",
              "      <td>-1</td>\n",
              "      <td>F</td>\n",
              "      <td>08-02-1944</td>\n",
              "      <td>4.64</td>\n",
              "    </tr>\n",
              "    <tr>\n",
              "      <th>194</th>\n",
              "      <td>P18</td>\n",
              "      <td>-1</td>\n",
              "      <td>M</td>\n",
              "      <td>29-07-1954</td>\n",
              "      <td>4.96</td>\n",
              "    </tr>\n",
              "    <tr>\n",
              "      <th>196</th>\n",
              "      <td>P188</td>\n",
              "      <td>-1</td>\n",
              "      <td>M</td>\n",
              "      <td>25-03-1931</td>\n",
              "      <td>4.62</td>\n",
              "    </tr>\n",
              "    <tr>\n",
              "      <th>198</th>\n",
              "      <td>P148</td>\n",
              "      <td>-1</td>\n",
              "      <td>M</td>\n",
              "      <td>30-11-1945</td>\n",
              "      <td>5.14</td>\n",
              "    </tr>\n",
              "  </tbody>\n",
              "</table>\n",
              "</div>"
            ],
            "text/plain": [
              "       ID  LABEL GENDER         DOB  LYMPH_COUNT\n",
              "6     P71     -1      M   1/17/1946         5.76\n",
              "9     P16     -1      M    3/5/1940        32.00\n",
              "12   P114     -1      M   6/16/1929         4.60\n",
              "15   P170     -1      M   11/3/1933         4.80\n",
              "18    P98     -1      F   5/14/1970         6.24\n",
              "23    P69     -1      M    4/4/1979         7.47\n",
              "29    P92     -1      F   3/21/1947        55.26\n",
              "30   P132     -1      M   8/24/1945        24.70\n",
              "31    P81     -1      M  11/22/1958        64.86\n",
              "41    P73     -1      F   6/21/1923         4.28\n",
              "46   P143     -1      F   8/15/1927        38.34\n",
              "50   P175     -1      M   2/19/1954        26.24\n",
              "62    P56     -1      M   9/12/1972         6.55\n",
              "67   P139     -1      F   3/20/1961        14.48\n",
              "72   P152     -1      F    4/4/1938         5.89\n",
              "73   P203     -1      M   7/22/1984         7.68\n",
              "75    P75     -1      M   4/25/1946        84.54\n",
              "84     P9     -1      F   8/12/1934        15.38\n",
              "93    P24     -1      F    8/3/1963         4.08\n",
              "94     P4     -1      M    4/9/1977         5.27\n",
              "95    P32     -1      F  12/29/1964       217.59\n",
              "98   P120     -1      M    4/9/1950        47.01\n",
              "101  P138     -1      F   4/29/1932        15.43\n",
              "110  P172     -1      M    6/8/1965        35.73\n",
              "120   P57     -1      M  10/12/1959         4.25\n",
              "122  P195     -1      M    9/3/1931       184.16\n",
              "126   P68     -1      M   2/28/1980         4.29\n",
              "128  P133     -1      M    5/3/1952         7.49\n",
              "130   P14     -1      F   8/20/1932         6.53\n",
              "134  P119     -1      F  11/22/1965         8.30\n",
              "138    P7     -1      M    4/2/1999         4.09\n",
              "145   P49     -1      M    6/1/1981        10.10\n",
              "164   P93     -1      F  11/19/1957        10.37\n",
              "166  P178     -1      M   10/1/1979         5.39\n",
              "177   P58     -1      F  07-11-1964         5.59\n",
              "178  P108     -1      F  17-11-1929         6.22\n",
              "183  P197     -1      F  02-07-1997         6.19\n",
              "191  P196     -1      F  08-02-1945         6.98\n",
              "193   P86     -1      F  08-02-1944         4.64\n",
              "194   P18     -1      M  29-07-1954         4.96\n",
              "196  P188     -1      M  25-03-1931         4.62\n",
              "198  P148     -1      M  30-11-1945         5.14"
            ]
          },
          "execution_count": 23,
          "metadata": {},
          "output_type": "execute_result"
        }
      ],
      "source": [
        "test_soumission"
      ]
    },
    {
      "cell_type": "code",
      "execution_count": null,
      "metadata": {
        "execution": {
          "iopub.execute_input": "2024-03-21T09:57:29.950478Z",
          "iopub.status.busy": "2024-03-21T09:57:29.949891Z",
          "iopub.status.idle": "2024-03-21T09:57:29.956026Z",
          "shell.execute_reply": "2024-03-21T09:57:29.955043Z",
          "shell.execute_reply.started": "2024-03-21T09:57:29.950446Z"
        },
        "id": "nxq6xzfBAu5i",
        "trusted": true
      },
      "outputs": [],
      "source": [
        "test_soumission['Predicted'] = np.array(all_preds)\n",
        "test_soumission['Predicted'] = test_soumission['Predicted'].astype(int)"
      ]
    },
    {
      "cell_type": "code",
      "execution_count": null,
      "metadata": {
        "execution": {
          "iopub.execute_input": "2024-03-21T09:57:36.141111Z",
          "iopub.status.busy": "2024-03-21T09:57:36.140382Z",
          "iopub.status.idle": "2024-03-21T09:57:36.151521Z",
          "shell.execute_reply": "2024-03-21T09:57:36.150599Z",
          "shell.execute_reply.started": "2024-03-21T09:57:36.141077Z"
        },
        "id": "w14uFeHzAu5i",
        "outputId": "65399567-cacd-44f4-f974-454b27b82d36",
        "trusted": true
      },
      "outputs": [
        {
          "data": {
            "text/html": [
              "<div>\n",
              "<style scoped>\n",
              "    .dataframe tbody tr th:only-of-type {\n",
              "        vertical-align: middle;\n",
              "    }\n",
              "\n",
              "    .dataframe tbody tr th {\n",
              "        vertical-align: top;\n",
              "    }\n",
              "\n",
              "    .dataframe thead th {\n",
              "        text-align: right;\n",
              "    }\n",
              "</style>\n",
              "<table border=\"1\" class=\"dataframe\">\n",
              "  <thead>\n",
              "    <tr style=\"text-align: right;\">\n",
              "      <th></th>\n",
              "      <th>ID</th>\n",
              "      <th>LABEL</th>\n",
              "      <th>Predicted</th>\n",
              "    </tr>\n",
              "  </thead>\n",
              "  <tbody>\n",
              "    <tr>\n",
              "      <th>6</th>\n",
              "      <td>P71</td>\n",
              "      <td>-1</td>\n",
              "      <td>0</td>\n",
              "    </tr>\n",
              "    <tr>\n",
              "      <th>9</th>\n",
              "      <td>P16</td>\n",
              "      <td>-1</td>\n",
              "      <td>1</td>\n",
              "    </tr>\n",
              "    <tr>\n",
              "      <th>12</th>\n",
              "      <td>P114</td>\n",
              "      <td>-1</td>\n",
              "      <td>1</td>\n",
              "    </tr>\n",
              "    <tr>\n",
              "      <th>15</th>\n",
              "      <td>P170</td>\n",
              "      <td>-1</td>\n",
              "      <td>0</td>\n",
              "    </tr>\n",
              "    <tr>\n",
              "      <th>18</th>\n",
              "      <td>P98</td>\n",
              "      <td>-1</td>\n",
              "      <td>0</td>\n",
              "    </tr>\n",
              "  </tbody>\n",
              "</table>\n",
              "</div>"
            ],
            "text/plain": [
              "      ID  LABEL  Predicted\n",
              "6    P71     -1          0\n",
              "9    P16     -1          1\n",
              "12  P114     -1          1\n",
              "15  P170     -1          0\n",
              "18   P98     -1          0"
            ]
          },
          "execution_count": 25,
          "metadata": {},
          "output_type": "execute_result"
        }
      ],
      "source": [
        "test_soumission = test_soumission.drop(['GENDER', 'LYMPH_COUNT', 'DOB'], axis=1)\n",
        "test_soumission.head()"
      ]
    },
    {
      "cell_type": "code",
      "execution_count": null,
      "metadata": {
        "execution": {
          "iopub.execute_input": "2024-03-21T09:57:43.926077Z",
          "iopub.status.busy": "2024-03-21T09:57:43.925391Z",
          "iopub.status.idle": "2024-03-21T09:57:43.930857Z",
          "shell.execute_reply": "2024-03-21T09:57:43.930006Z",
          "shell.execute_reply.started": "2024-03-21T09:57:43.926048Z"
        },
        "id": "GhOaa-O1Au5j",
        "trusted": true
      },
      "outputs": [],
      "source": [
        "test_soumission.drop(['LABEL'], axis=1, inplace=True)"
      ]
    },
    {
      "cell_type": "code",
      "execution_count": null,
      "metadata": {
        "execution": {
          "iopub.execute_input": "2024-03-21T09:58:04.491341Z",
          "iopub.status.busy": "2024-03-21T09:58:04.490526Z",
          "iopub.status.idle": "2024-03-21T09:58:04.498584Z",
          "shell.execute_reply": "2024-03-21T09:58:04.497600Z",
          "shell.execute_reply.started": "2024-03-21T09:58:04.491304Z"
        },
        "id": "WN5Oz9ZvAu5k",
        "trusted": true
      },
      "outputs": [],
      "source": [
        "test_soumission.to_csv('third500epochs_submit.csv', index=False)"
      ]
    },
    {
      "cell_type": "code",
      "execution_count": null,
      "metadata": {
        "execution": {
          "iopub.execute_input": "2024-03-21T09:57:47.452398Z",
          "iopub.status.busy": "2024-03-21T09:57:47.451590Z",
          "iopub.status.idle": "2024-03-21T09:57:47.462650Z",
          "shell.execute_reply": "2024-03-21T09:57:47.461735Z",
          "shell.execute_reply.started": "2024-03-21T09:57:47.452363Z"
        },
        "id": "7nIxxEI2Au5l",
        "outputId": "f173410a-3a43-4ce6-8b41-5de129979cc2",
        "trusted": true
      },
      "outputs": [
        {
          "data": {
            "text/html": [
              "<div>\n",
              "<style scoped>\n",
              "    .dataframe tbody tr th:only-of-type {\n",
              "        vertical-align: middle;\n",
              "    }\n",
              "\n",
              "    .dataframe tbody tr th {\n",
              "        vertical-align: top;\n",
              "    }\n",
              "\n",
              "    .dataframe thead th {\n",
              "        text-align: right;\n",
              "    }\n",
              "</style>\n",
              "<table border=\"1\" class=\"dataframe\">\n",
              "  <thead>\n",
              "    <tr style=\"text-align: right;\">\n",
              "      <th></th>\n",
              "      <th>Id</th>\n",
              "      <th>Predicted</th>\n",
              "    </tr>\n",
              "  </thead>\n",
              "  <tbody>\n",
              "    <tr>\n",
              "      <th>0</th>\n",
              "      <td>P71</td>\n",
              "      <td>0</td>\n",
              "    </tr>\n",
              "    <tr>\n",
              "      <th>1</th>\n",
              "      <td>P16</td>\n",
              "      <td>1</td>\n",
              "    </tr>\n",
              "    <tr>\n",
              "      <th>2</th>\n",
              "      <td>P114</td>\n",
              "      <td>1</td>\n",
              "    </tr>\n",
              "    <tr>\n",
              "      <th>3</th>\n",
              "      <td>P170</td>\n",
              "      <td>0</td>\n",
              "    </tr>\n",
              "    <tr>\n",
              "      <th>4</th>\n",
              "      <td>P98</td>\n",
              "      <td>0</td>\n",
              "    </tr>\n",
              "  </tbody>\n",
              "</table>\n",
              "</div>"
            ],
            "text/plain": [
              "     Id  Predicted\n",
              "0   P71          0\n",
              "1   P16          1\n",
              "2  P114          1\n",
              "3  P170          0\n",
              "4   P98          0"
            ]
          },
          "execution_count": 27,
          "metadata": {},
          "output_type": "execute_result"
        }
      ],
      "source": [
        "test_soumission.reset_index(drop=True, inplace=True)\n",
        "test_soumission.rename({'ID':'Id'},axis=1, inplace=True)\n",
        "test_soumission\n",
        "test_soumission.head()"
      ]
    }
  ],
  "metadata": {
    "accelerator": "GPU",
    "colab": {
      "gpuType": "V100",
      "machine_shape": "hm",
      "provenance": []
    },
    "kaggle": {
      "accelerator": "gpu",
      "dataSources": [
        {
          "datasetId": 4573597,
          "sourceId": 7809075,
          "sourceType": "datasetVersion"
        },
        {
          "datasetId": 4573679,
          "sourceId": 7809185,
          "sourceType": "datasetVersion"
        }
      ],
      "dockerImageVersionId": 30664,
      "isGpuEnabled": true,
      "isInternetEnabled": true,
      "language": "python",
      "sourceType": "notebook"
    },
    "kernelspec": {
      "display_name": "Python 3",
      "name": "python3"
    },
    "language_info": {
      "codemirror_mode": {
        "name": "ipython",
        "version": 3
      },
      "file_extension": ".py",
      "mimetype": "text/x-python",
      "name": "python",
      "nbconvert_exporter": "python",
      "pygments_lexer": "ipython3",
      "version": "3.10.13"
    }
  },
  "nbformat": 4,
  "nbformat_minor": 0
}
